{
 "cells": [
  {
   "cell_type": "code",
   "execution_count": 1,
   "metadata": {},
   "outputs": [
    {
     "name": "stderr",
     "output_type": "stream",
     "text": [
      "Using TensorFlow backend.\n"
     ]
    }
   ],
   "source": [
    "import keras\n",
    "import pandas as pd\n",
    "from sklearn.model_selection import train_test_split\n",
    "import re, string, unicodedata\n",
    "import nltk\n",
    "#nltk.download('popular')\n",
    "from nltk.stem.snowball import SnowballStemmer\n",
    "#import inflect\n",
    "from bs4 import BeautifulSoup\n",
    "from nltk import word_tokenize, sent_tokenize\n",
    "from nltk.corpus import stopwords\n",
    "from nltk.stem import LancasterStemmer, WordNetLemmatizer\n"
   ]
  },
  {
   "cell_type": "code",
   "execution_count": 84,
   "metadata": {},
   "outputs": [
    {
     "name": "stdout",
     "output_type": "stream",
     "text": [
      "2725\n"
     ]
    },
    {
     "data": {
      "text/html": [
       "<div>\n",
       "<style scoped>\n",
       "    .dataframe tbody tr th:only-of-type {\n",
       "        vertical-align: middle;\n",
       "    }\n",
       "\n",
       "    .dataframe tbody tr th {\n",
       "        vertical-align: top;\n",
       "    }\n",
       "\n",
       "    .dataframe thead th {\n",
       "        text-align: right;\n",
       "    }\n",
       "</style>\n",
       "<table border=\"1\" class=\"dataframe\">\n",
       "  <thead>\n",
       "    <tr style=\"text-align: right;\">\n",
       "      <th></th>\n",
       "      <th>comment_Text</th>\n",
       "      <th>comment_author</th>\n",
       "      <th>comment_id</th>\n",
       "      <th>comment_upvotes</th>\n",
       "      <th>parent_id</th>\n",
       "      <th>Rationale_Type</th>\n",
       "      <th>Claim_Type</th>\n",
       "      <th>Have_Rationale</th>\n",
       "    </tr>\n",
       "  </thead>\n",
       "  <tbody>\n",
       "    <tr>\n",
       "      <th>1</th>\n",
       "      <td>People still do racial checkbox ads?</td>\n",
       "      <td>PubicLouseInDaHouse</td>\n",
       "      <td>dfadazi</td>\n",
       "      <td>-1</td>\n",
       "      <td>60v5za</td>\n",
       "      <td>claim</td>\n",
       "      <td>neu</td>\n",
       "      <td>NaN</td>\n",
       "    </tr>\n",
       "    <tr>\n",
       "      <th>2</th>\n",
       "      <td>What?</td>\n",
       "      <td>Isvara</td>\n",
       "      <td>dfade5q</td>\n",
       "      <td>1</td>\n",
       "      <td>dfadazi</td>\n",
       "      <td>claim</td>\n",
       "      <td>neu</td>\n",
       "      <td>NaN</td>\n",
       "    </tr>\n",
       "    <tr>\n",
       "      <th>3</th>\n",
       "      <td>90s power rangers.</td>\n",
       "      <td>PubicLouseInDaHouse</td>\n",
       "      <td>dfadlgi</td>\n",
       "      <td>1</td>\n",
       "      <td>dfade5q</td>\n",
       "      <td>claim</td>\n",
       "      <td>neu</td>\n",
       "      <td>NaN</td>\n",
       "    </tr>\n",
       "    <tr>\n",
       "      <th>4</th>\n",
       "      <td>Are there really uses for that?</td>\n",
       "      <td>piponwa</td>\n",
       "      <td>dfa8rlu</td>\n",
       "      <td>-1</td>\n",
       "      <td>60v5za</td>\n",
       "      <td>issue</td>\n",
       "      <td>NaN</td>\n",
       "      <td>NaN</td>\n",
       "    </tr>\n",
       "    <tr>\n",
       "      <th>5</th>\n",
       "      <td>https://support.google.com/plus/answer/2998354...</td>\n",
       "      <td>sparr</td>\n",
       "      <td>dfa365t</td>\n",
       "      <td>-1</td>\n",
       "      <td>60v5za</td>\n",
       "      <td>claim</td>\n",
       "      <td>supporting</td>\n",
       "      <td>NaN</td>\n",
       "    </tr>\n",
       "  </tbody>\n",
       "</table>\n",
       "</div>"
      ],
      "text/plain": [
       "                                        comment_Text       comment_author  \\\n",
       "1               People still do racial checkbox ads?  PubicLouseInDaHouse   \n",
       "2                                              What?               Isvara   \n",
       "3                                 90s power rangers.  PubicLouseInDaHouse   \n",
       "4                    Are there really uses for that?              piponwa   \n",
       "5  https://support.google.com/plus/answer/2998354...                sparr   \n",
       "\n",
       "  comment_id  comment_upvotes parent_id Rationale_Type  Claim_Type  \\\n",
       "1    dfadazi               -1    60v5za          claim        neu    \n",
       "2    dfade5q                1   dfadazi          claim        neu    \n",
       "3    dfadlgi                1   dfade5q          claim        neu    \n",
       "4    dfa8rlu               -1    60v5za          issue         NaN   \n",
       "5    dfa365t               -1    60v5za          claim  supporting   \n",
       "\n",
       "  Have_Rationale  \n",
       "1            NaN  \n",
       "2            NaN  \n",
       "3            NaN  \n",
       "4            NaN  \n",
       "5            NaN  "
      ]
     },
     "execution_count": 84,
     "metadata": {},
     "output_type": "execute_result"
    }
   ],
   "source": [
    "data = pd.read_csv('google-maps-combinded-dataset.csv',encoding='ISO-8859-1')\n",
    "data= data[pd.notnull(data['Rationale_Type'])]\n",
    "data = data.replace(\"issue \", \"issue\")\n",
    "print(len(data))\n",
    "data.head()"
   ]
  },
  {
   "cell_type": "code",
   "execution_count": 85,
   "metadata": {},
   "outputs": [],
   "source": [
    "def print_plot(index):\n",
    "    example = data[data.index == index][['comment_Text', 'Rationale_Type']].values[0]\n",
    "    if len(example) > 0:\n",
    "        print(example[0])\n",
    "        print('Rationale_Type:', example[1])\n"
   ]
  },
  {
   "cell_type": "code",
   "execution_count": 86,
   "metadata": {},
   "outputs": [
    {
     "name": "stdout",
     "output_type": "stream",
     "text": [
      "> gender equality in any and all professions.\r\n",
      "\r\n",
      "Hahah uh... what?\r\n",
      "\r\n",
      "EDIT: Also I wasn't the one to downvote you above. No clue what that's about.\n",
      "Rationale_Type: claim\n"
     ]
    }
   ],
   "source": [
    "print_plot(60)"
   ]
  },
  {
   "cell_type": "code",
   "execution_count": null,
   "metadata": {},
   "outputs": [],
   "source": []
  },
  {
   "cell_type": "code",
   "execution_count": 87,
   "metadata": {},
   "outputs": [
    {
     "name": "stderr",
     "output_type": "stream",
     "text": [
      "C:\\Users\\Ali\\Anaconda3\\lib\\site-packages\\bs4\\__init__.py:335: UserWarning:\n",
      "\n",
      "\"https://blog.google/products/maps/share-your-trips-and-real-time-location-google-maps/\" looks like a URL. Beautiful Soup is not an HTTP client. You should probably use an HTTP client like requests to get the document behind the URL, and feed that document to Beautiful Soup.\n",
      "\n",
      "C:\\Users\\Ali\\Anaconda3\\lib\\site-packages\\bs4\\__init__.py:335: UserWarning:\n",
      "\n",
      "\"http://www.transphone.net/images/whatsapp-transfer/whatsapp-share-location.jpg\" looks like a URL. Beautiful Soup is not an HTTP client. You should probably use an HTTP client like requests to get the document behind the URL, and feed that document to Beautiful Soup.\n",
      "\n",
      "C:\\Users\\Ali\\Anaconda3\\lib\\site-packages\\bs4\\__init__.py:335: UserWarning:\n",
      "\n",
      "\"http://i.imgur.com/646xV.gif\" looks like a URL. Beautiful Soup is not an HTTP client. You should probably use an HTTP client like requests to get the document behind the URL, and feed that document to Beautiful Soup.\n",
      "\n",
      "C:\\Users\\Ali\\Anaconda3\\lib\\site-packages\\bs4\\__init__.py:335: UserWarning:\n",
      "\n",
      "\"http://i.imgur.com/AsjVJYK.gifv\" looks like a URL. Beautiful Soup is not an HTTP client. You should probably use an HTTP client like requests to get the document behind the URL, and feed that document to Beautiful Soup.\n",
      "\n",
      "C:\\Users\\Ali\\Anaconda3\\lib\\site-packages\\bs4\\__init__.py:335: UserWarning:\n",
      "\n",
      "\"https://www.androidpolice.com/2017/07/14/businesses-can-now-chat-customers-allo-sms/\" looks like a URL. Beautiful Soup is not an HTTP client. You should probably use an HTTP client like requests to get the document behind the URL, and feed that document to Beautiful Soup.\n",
      "\n",
      "C:\\Users\\Ali\\Anaconda3\\lib\\site-packages\\bs4\\__init__.py:335: UserWarning:\n",
      "\n",
      "\"http://i.imgur.com/puGG2uX.jpg\r\n",
      "\r\n",
      "Nope.\" looks like a URL. Beautiful Soup is not an HTTP client. You should probably use an HTTP client like requests to get the document behind the URL, and feed that document to Beautiful Soup.\n",
      "\n",
      "C:\\Users\\Ali\\Anaconda3\\lib\\site-packages\\bs4\\__init__.py:335: UserWarning:\n",
      "\n",
      "\"http://junkee.com/wp-content/uploads/2013/12/shia-labeouf-magic-gif.gif\" looks like a URL. Beautiful Soup is not an HTTP client. You should probably use an HTTP client like requests to get the document behind the URL, and feed that document to Beautiful Soup.\n",
      "\n",
      "C:\\Users\\Ali\\Anaconda3\\lib\\site-packages\\bs4\\__init__.py:335: UserWarning:\n",
      "\n",
      "\"https://youtu.be/IjO6Tjn8wS0\" looks like a URL. Beautiful Soup is not an HTTP client. You should probably use an HTTP client like requests to get the document behind the URL, and feed that document to Beautiful Soup.\n",
      "\n",
      "C:\\Users\\Ali\\Anaconda3\\lib\\site-packages\\bs4\\__init__.py:335: UserWarning:\n",
      "\n",
      "\"https://vimeo.com/79295602\" looks like a URL. Beautiful Soup is not an HTTP client. You should probably use an HTTP client like requests to get the document behind the URL, and feed that document to Beautiful Soup.\n",
      "\n"
     ]
    }
   ],
   "source": [
    "#df = df.reset_index(drop=True)\n",
    "REPLACE_BY_SPACE_RE = re.compile('[/(){}\\[\\]\\<\\>\\|@,;]')\n",
    "BAD_SYMBOLS_RE = re.compile('[^0-9a-z =#+_]')\n",
    "#STOPWORDS = set(stopwords.words('english'))\n",
    "\n",
    "def strip_html(text):\n",
    "    soup = BeautifulSoup(text, \"html.parser\")\n",
    "    return soup.get_text()\n",
    "\n",
    "def remove_url(text):\n",
    "    text = re.sub(r'^https?:\\/\\/.*[\\r\\n]*', '', text, flags=re.MULTILINE)\n",
    "    return text\n",
    "\n",
    "def clean_text(text):\n",
    "    \"\"\"\n",
    "        text: a string\n",
    "        \n",
    "        return: modified initial string\n",
    "    \"\"\"\n",
    "    text = strip_html(text) \n",
    "    text = remove_url(text)\n",
    "    text = text.lower() # lowercase text\n",
    "    text = REPLACE_BY_SPACE_RE.sub(' ', text) # replace REPLACE_BY_SPACE_RE symbols by space in text. substitute the matched string in REPLACE_BY_SPACE_RE with space.\n",
    "    text = BAD_SYMBOLS_RE.sub('', text) # remove symbols which are in BAD_SYMBOLS_RE from text. substitute the matched string in BAD_SYMBOLS_RE with nothing. \n",
    "    #text = text.replace('x', '')\n",
    "#    text = re.sub(r'\\W+', '', text)\n",
    "    #text = ' '.join(word for word in text.split() if word not in STOPWORDS) # remove stopwors from text\n",
    "    return text\n",
    "data['comment_Text'] = data['comment_Text'].apply(clean_text)\n",
    "#df['Consumer complaint narrative'] = df['Consumer complaint narrative'].str.replace('\\d+', '')"
   ]
  },
  {
   "cell_type": "code",
   "execution_count": 88,
   "metadata": {},
   "outputs": [
    {
     "name": "stdout",
     "output_type": "stream",
     "text": [
      "  gender equality in any and all professionshahah uh whatedit also i wasnt the one to downvote you above no clue what thats about\n",
      "Rationale_Type: claim\n"
     ]
    }
   ],
   "source": [
    "print_plot(60)"
   ]
  },
  {
   "cell_type": "code",
   "execution_count": 89,
   "metadata": {},
   "outputs": [
    {
     "name": "stdout",
     "output_type": "stream",
     "text": [
      "claim      1836\n",
      "feature     613\n",
      "issue       276\n",
      "Name: Rationale_Type, dtype: int64\n",
      "['claim' 'issue' 'feature']\n"
     ]
    }
   ],
   "source": [
    "print(data.Rationale_Type.value_counts())\n",
    "user_comments= data.comment_Text\n",
    "rationale_type=data.Rationale_Type\n",
    "rationale_type_name= data.Rationale_Type.unique()\n",
    "print(rationale_type_name)"
   ]
  },
  {
   "cell_type": "code",
   "execution_count": 90,
   "metadata": {},
   "outputs": [],
   "source": [
    "# load nltk's SnowballStemmer as variabled 'stemmer'\n",
    "stemmer = SnowballStemmer(\"english\")\n",
    "lemmatizer = WordNetLemmatizer()\n",
    "\n",
    "def tokenize_and_stem(text):\n",
    "    # first tokenize by sentence, then by word to ensure that punctuation is caught as it's own token\n",
    "    tokens = [word for user_comments in nltk.sent_tokenize(text) for word in nltk.word_tokenize(user_comments)]\n",
    "    filtered_tokens = []\n",
    "    # filter out any tokens not containing letters (e.g., numeric tokens, raw punctuation)\n",
    "    for token in tokens:\n",
    "        if re.search('[a-zA-Z]', token):\n",
    "            filtered_tokens.append(token)\n",
    "    stems = [stemmer.stem(t) for t in filtered_tokens]\n",
    "    lemmas = []\n",
    "    for token in tokens:\n",
    "        lemma = lemmatizer.lemmatize(token, pos='v')\n",
    "        lemmas.append(lemma)\n",
    "    return lemmas"
   ]
  },
  {
   "cell_type": "code",
   "execution_count": 91,
   "metadata": {},
   "outputs": [],
   "source": [
    "totalvocab_stemmed = []\n",
    "for i in user_comments:\n",
    "    allwords_stemmed = tokenize_and_stem(i) # for each item in 'synopses', tokenize/stem\n",
    "    totalvocab_stemmed.extend(allwords_stemmed) \n",
    "#print(totalvocab_stemmed)\n",
    "    "
   ]
  },
  {
   "cell_type": "code",
   "execution_count": 92,
   "metadata": {},
   "outputs": [
    {
     "name": "stdout",
     "output_type": "stream",
     "text": [
      "2180\n",
      "545\n",
      "2180\n",
      "545\n"
     ]
    }
   ],
   "source": [
    "X_train, X_test, Y_train, Y_test = train_test_split(user_comments,rationale_type, test_size = 0.20, random_state = 42)\n",
    "print(len(X_train))\n",
    "print(len(X_test))\n",
    "print(len(Y_train))\n",
    "print(len(Y_test))"
   ]
  },
  {
   "cell_type": "code",
   "execution_count": 93,
   "metadata": {},
   "outputs": [
    {
     "data": {
      "text/plain": [
       "LabelBinarizer(neg_label=0, pos_label=1, sparse_output=False)"
      ]
     },
     "execution_count": 93,
     "metadata": {},
     "output_type": "execute_result"
    }
   ],
   "source": [
    "from keras.preprocessing.text import Tokenizer\n",
    "from sklearn.preprocessing import LabelBinarizer\n",
    "\n",
    "vocab_size= 10000\n",
    "tokenizer= Tokenizer(num_words=vocab_size)\n",
    "tokenizer.fit_on_texts(X_train)\n",
    "X_train_matrix_tfidf= tokenizer.texts_to_matrix(X_train,mode='tfidf')\n",
    "X_test_matrix_tfidf= tokenizer.texts_to_matrix(X_test, mode='tfidf')\n",
    "\n",
    "encoder= LabelBinarizer()\n",
    "encoder.fit(Y_train)\n",
    "Y_train_matrix_tfidf= encoder.transform(Y_train)\n",
    "Y_test_matrix_tfidf= encoder.transform(Y_test)"
   ]
  },
  {
   "cell_type": "code",
   "execution_count": 94,
   "metadata": {},
   "outputs": [
    {
     "data": {
      "text/plain": [
       "((2180, 10000), (2180, 3), (545, 10000))"
      ]
     },
     "execution_count": 94,
     "metadata": {},
     "output_type": "execute_result"
    }
   ],
   "source": [
    "X_train_matrix_tfidf.shape, Y_train_matrix_tfidf.shape, X_test_matrix_tfidf.shape"
   ]
  },
  {
   "cell_type": "code",
   "execution_count": 95,
   "metadata": {},
   "outputs": [
    {
     "name": "stdout",
     "output_type": "stream",
     "text": [
      "(3415, 10000) (3415, 3)\n"
     ]
    }
   ],
   "source": [
    "#Let us try some sampling technique to remove class imbalance\n",
    "from imblearn.over_sampling import SMOTE\n",
    "#Over-sampling: SMOTE\n",
    "#SMOTE (Synthetic Minority Oversampling TEchnique) consists of synthesizing elements for the minority class, \n",
    "#based on those that already exist. It works randomly picking a point from the minority class and computing \n",
    "#the k-nearest neighbors for this point.The synthetic points are added between the chosen point and its neighbors.\n",
    "#We'll use ratio='minority' to resample the minority class.\n",
    "smote = SMOTE('minority')\n",
    "\n",
    "X_sm_tfidf, y_sm_tfidf = smote.fit_sample(X_train_matrix_tfidf, Y_train_matrix_tfidf)\n",
    "print(X_sm_tfidf.shape, y_sm_tfidf.shape)"
   ]
  },
  {
   "cell_type": "code",
   "execution_count": 96,
   "metadata": {},
   "outputs": [
    {
     "name": "stdout",
     "output_type": "stream",
     "text": [
      "_________________________________________________________________\n",
      "Layer (type)                 Output Shape              Param #   \n",
      "=================================================================\n",
      "dense_17 (Dense)             (None, 512)               5120512   \n",
      "_________________________________________________________________\n",
      "activation_13 (Activation)   (None, 512)               0         \n",
      "_________________________________________________________________\n",
      "dropout_7 (Dropout)          (None, 512)               0         \n",
      "_________________________________________________________________\n",
      "dense_18 (Dense)             (None, 3)                 1539      \n",
      "_________________________________________________________________\n",
      "activation_14 (Activation)   (None, 3)                 0         \n",
      "=================================================================\n",
      "Total params: 5,122,051\n",
      "Trainable params: 5,122,051\n",
      "Non-trainable params: 0\n",
      "_________________________________________________________________\n",
      "['loss', 'acc']\n"
     ]
    }
   ],
   "source": [
    "from keras.models import Sequential\n",
    "from keras.layers import Dense, Dropout, Activation\n",
    "MAX_SEQUENCE_LENGTH = 500\n",
    "#print(vocab_size)\n",
    "model = Sequential()\n",
    "model.add(Dense(512, input_shape=(vocab_size, )))\n",
    "model.add(Activation('relu'))\n",
    "model.add(Dropout(0.5))\n",
    "model.add(Dense(3))\n",
    "model.add(Activation('softmax'))\n",
    "model.compile(loss='categorical_crossentropy', optimizer= 'adam', metrics=['accuracy'])\n",
    "model. summary()\n",
    "print(model.metrics_names)"
   ]
  },
  {
   "cell_type": "code",
   "execution_count": 97,
   "metadata": {},
   "outputs": [
    {
     "name": "stdout",
     "output_type": "stream",
     "text": [
      "Train on 3073 samples, validate on 342 samples\n",
      "Epoch 1/5\n",
      "3073/3073 [==============================] - 15s 5ms/step - loss: 0.6731 - acc: 0.7520 - val_loss: 0.1381 - val_acc: 0.9883\n",
      "Epoch 2/5\n",
      "3073/3073 [==============================] - 13s 4ms/step - loss: 0.1827 - acc: 0.9437 - val_loss: 0.0227 - val_acc: 1.0000\n",
      "Epoch 3/5\n",
      "3073/3073 [==============================] - 13s 4ms/step - loss: 0.0624 - acc: 0.9831 - val_loss: 0.0142 - val_acc: 1.0000\n",
      "Epoch 4/5\n",
      "3073/3073 [==============================] - 13s 4ms/step - loss: 0.0254 - acc: 0.9961 - val_loss: 0.0081 - val_acc: 1.0000\n",
      "Epoch 5/5\n",
      "3073/3073 [==============================] - 13s 4ms/step - loss: 0.0133 - acc: 0.9984 - val_loss: 0.0029 - val_acc: 1.0000\n",
      "545/545 [==============================] - 0s 295us/step\n",
      "Test Loss: 1.7199846071934481\n",
      "Test Accuracy: 0.67155963816774\n"
     ]
    }
   ],
   "source": [
    "\n",
    "batch_size= 12\n",
    "epochs= 5\n",
    "history= model.fit(X_sm_tfidf,y_sm_tfidf, batch_size=batch_size, epochs=epochs, verbose=1, validation_split=0.1)\n",
    "score= model.evaluate(X_test_matrix_tfidf, Y_test_matrix_tfidf, batch_size=batch_size, verbose=1)\n",
    "print(\"Test Loss: {}\". format(score[0]))\n",
    "print(\"Test Accuracy: {}\". format(score[1]))"
   ]
  },
  {
   "cell_type": "code",
   "execution_count": 99,
   "metadata": {},
   "outputs": [
    {
     "name": "stdout",
     "output_type": "stream",
     "text": [
      "545/545 [==============================] - 0s 270us/step\n",
      "              precision    recall  f1-score   support\n",
      "\n",
      "           0       0.77      0.81      0.79       370\n",
      "           1       0.52      0.45      0.48       130\n",
      "           2       0.19      0.18      0.18        45\n",
      "\n",
      "   micro avg       0.67      0.67      0.67       545\n",
      "   macro avg       0.49      0.48      0.48       545\n",
      "weighted avg       0.66      0.67      0.67       545\n",
      "\n"
     ]
    }
   ],
   "source": [
    "from sklearn.metrics import classification_report\n",
    "import numpy as np\n",
    "pred = model.predict(X_test_matrix_tfidf, batch_size=12, verbose=1)\n",
    "predicted = np.argmax(pred, axis=1)\n",
    "report = classification_report(np.argmax(Y_test_matrix_tfidf, axis=1), predicted)\n",
    "print(report)\n",
    "\n"
   ]
  },
  {
   "cell_type": "code",
   "execution_count": 100,
   "metadata": {},
   "outputs": [],
   "source": [
    "import plotly.graph_objs as go\n",
    "import plotly.plotly as py\n",
    "#import cufflinks\n",
    "from IPython.core.interactiveshell import InteractiveShell\n",
    "import plotly.figure_factory as ff\n",
    "InteractiveShell.ast_node_interactivity = 'all'\n",
    "from plotly.offline import iplot\n",
    "#cufflinks.go_offline()\n",
    "#cufflinks.set_config_file(world_readable=True, theme='pearl')"
   ]
  },
  {
   "cell_type": "code",
   "execution_count": 101,
   "metadata": {},
   "outputs": [
    {
     "data": {
      "image/png": "[encoded data removed]",
      "text/plain": [
       "<Figure size 432x288 with 1 Axes>"
      ]
     },
     "metadata": {
      "needs_background": "light"
     },
     "output_type": "display_data"
    }
   ],
   "source": [
    "import matplotlib.pyplot as plt\n",
    "\n",
    "plt.title('Loss')\n",
    "plt.plot(history.history['loss'], label='train')\n",
    "plt.plot(history.history['val_loss'], label='test')\n",
    "plt.legend()\n",
    "plt.show();"
   ]
  },
  {
   "cell_type": "code",
   "execution_count": 102,
   "metadata": {},
   "outputs": [
    {
     "data": {
      "image/png": "[encoded data removed]",
      "text/plain": [
       "<Figure size 432x288 with 1 Axes>"
      ]
     },
     "metadata": {
      "needs_background": "light"
     },
     "output_type": "display_data"
    }
   ],
   "source": [
    "plt.title('Accuracy')\n",
    "plt.plot(history.history['acc'], label='train')\n",
    "plt.plot(history.history['val_acc'], label='test')\n",
    "plt.legend()\n",
    "plt.show();"
   ]
  },
  {
   "cell_type": "code",
   "execution_count": 110,
   "metadata": {},
   "outputs": [
    {
     "data": {
      "text/plain": [
       "LabelBinarizer(neg_label=0, pos_label=1, sparse_output=False)"
      ]
     },
     "execution_count": 110,
     "metadata": {},
     "output_type": "execute_result"
    }
   ],
   "source": [
    "#using mode=binary\n",
    "X_train_binary, X_test_binary, Y_train_binary, Y_test_binary = train_test_split(user_comments,rationale_type, test_size = 0.20, random_state = 42)\n",
    "vocab_size= 10000\n",
    "tokenizer= Tokenizer(num_words=vocab_size)\n",
    "tokenizer.fit_on_texts(X_train_binary)\n",
    "X_train_matrix_binary= tokenizer.texts_to_matrix(X_train_binary,mode='binary')\n",
    "X_test_matrix_binary= tokenizer.texts_to_matrix(X_test_binary, mode='binary')\n",
    "\n",
    "encoder= LabelBinarizer()\n",
    "encoder.fit(Y_train)\n",
    "Y_train_matrix_binary= encoder.transform(Y_train_binary)\n",
    "Y_test_matrix_binary= encoder.transform(Y_test_binary)\n"
   ]
  },
  {
   "cell_type": "code",
   "execution_count": 111,
   "metadata": {},
   "outputs": [
    {
     "name": "stdout",
     "output_type": "stream",
     "text": [
      "(3415, 10000) (3415, 3)\n"
     ]
    }
   ],
   "source": [
    "#using mode=binary\n",
    "from imblearn.over_sampling import SMOTE\n",
    "smote = SMOTE('minority')\n",
    "X_sm_binary, y_sm_binary = smote.fit_sample(X_train_matrix_binary, Y_train_matrix_binary)\n",
    "print(X_sm_binary.shape, y_sm_binary.shape)"
   ]
  },
  {
   "cell_type": "code",
   "execution_count": 112,
   "metadata": {},
   "outputs": [
    {
     "name": "stdout",
     "output_type": "stream",
     "text": [
      "_________________________________________________________________\n",
      "Layer (type)                 Output Shape              Param #   \n",
      "=================================================================\n",
      "dense_21 (Dense)             (None, 512)               5120512   \n",
      "_________________________________________________________________\n",
      "activation_17 (Activation)   (None, 512)               0         \n",
      "_________________________________________________________________\n",
      "dropout_9 (Dropout)          (None, 512)               0         \n",
      "_________________________________________________________________\n",
      "dense_22 (Dense)             (None, 3)                 1539      \n",
      "_________________________________________________________________\n",
      "activation_18 (Activation)   (None, 3)                 0         \n",
      "=================================================================\n",
      "Total params: 5,122,051\n",
      "Trainable params: 5,122,051\n",
      "Non-trainable params: 0\n",
      "_________________________________________________________________\n",
      "['loss', 'acc']\n",
      "Train on 3073 samples, validate on 342 samples\n",
      "Epoch 1/5\n",
      "3073/3073 [==============================] - 15s 5ms/step - loss: 0.7424 - acc: 0.7107 - val_loss: 0.2052 - val_acc: 0.9591\n",
      "Epoch 2/5\n",
      "3073/3073 [==============================] - 13s 4ms/step - loss: 0.3208 - acc: 0.8926 - val_loss: 0.1318 - val_acc: 0.9825\n",
      "Epoch 3/5\n",
      "3073/3073 [==============================] - 13s 4ms/step - loss: 0.1465 - acc: 0.9567 - val_loss: 0.0359 - val_acc: 1.0000\n",
      "Epoch 4/5\n",
      "3073/3073 [==============================] - 13s 4ms/step - loss: 0.0711 - acc: 0.9811 - val_loss: 0.0259 - val_acc: 1.0000\n",
      "Epoch 5/5\n",
      "3073/3073 [==============================] - 13s 4ms/step - loss: 0.0398 - acc: 0.9925 - val_loss: 0.0074 - val_acc: 1.0000\n",
      "545/545 [==============================] - 0s 295us/step\n",
      "Test Loss: 1.3422990949875717\n",
      "Test Accuracy: 0.6844036675374442\n"
     ]
    }
   ],
   "source": [
    "#continue binary \n",
    "MAX_SEQUENCE_LENGTH = 500\n",
    "#print(vocab_size)\n",
    "model = Sequential()\n",
    "model.add(Dense(512, input_shape=(vocab_size, )))\n",
    "model.add(Activation('relu'))\n",
    "model.add(Dropout(0.5))\n",
    "model.add(Dense(3))\n",
    "model.add(Activation('softmax'))\n",
    "model.compile(loss='categorical_crossentropy', optimizer= 'adam', metrics=['accuracy'])\n",
    "model. summary()\n",
    "print(model.metrics_names)\n",
    "\n",
    "batch_size= 12\n",
    "epochs= 5\n",
    "history= model.fit(X_sm_binary,y_sm_binary, batch_size=batch_size, epochs=epochs, verbose=1, validation_split=0.1)\n",
    "score= model.evaluate(X_test_matrix_binary, Y_test_matrix_binary, batch_size=batch_size, verbose=1)\n",
    "print(\"Test Loss: {}\". format(score[0]))\n",
    "print(\"Test Accuracy: {}\". format(score[1]))"
   ]
  },
  {
   "cell_type": "code",
   "execution_count": 113,
   "metadata": {},
   "outputs": [
    {
     "name": "stdout",
     "output_type": "stream",
     "text": [
      "545/545 [==============================] - 0s 838us/step\n",
      "              precision    recall  f1-score   support\n",
      "\n",
      "           0       0.79      0.78      0.79       370\n",
      "           1       0.54      0.55      0.55       130\n",
      "           2       0.23      0.24      0.24        45\n",
      "\n",
      "   micro avg       0.68      0.68      0.68       545\n",
      "   macro avg       0.52      0.53      0.53       545\n",
      "weighted avg       0.69      0.68      0.69       545\n",
      "\n"
     ]
    }
   ],
   "source": [
    "pred = model.predict(X_test_matrix_binary, batch_size=12, verbose=1)\n",
    "predicted = np.argmax(pred, axis=1)\n",
    "report = classification_report(np.argmax(Y_test_matrix_binary, axis=1), predicted)\n",
    "print(report)\n"
   ]
  },
  {
   "cell_type": "code",
   "execution_count": 114,
   "metadata": {},
   "outputs": [
    {
     "data": {
      "image/png": "[encoded data removed]",
      "text/plain": [
       "<Figure size 432x288 with 1 Axes>"
      ]
     },
     "metadata": {
      "needs_background": "light"
     },
     "output_type": "display_data"
    }
   ],
   "source": [
    "plt.title('Loss')\n",
    "plt.plot(history.history['loss'], label='train')\n",
    "plt.plot(history.history['val_loss'], label='test')\n",
    "plt.legend()\n",
    "plt.show();"
   ]
  },
  {
   "cell_type": "code",
   "execution_count": 116,
   "metadata": {},
   "outputs": [
    {
     "data": {
      "image/png": "[encoded data removed]",
      "text/plain": [
       "<Figure size 432x288 with 1 Axes>"
      ]
     },
     "metadata": {
      "needs_background": "light"
     },
     "output_type": "display_data"
    }
   ],
   "source": [
    "plt.title('Accuracy')\n",
    "plt.plot(history.history['acc'], label='train')\n",
    "plt.plot(history.history['val_acc'], label='test')\n",
    "plt.legend()\n",
    "plt.show();"
   ]
  },
  {
   "cell_type": "code",
   "execution_count": 158,
   "metadata": {},
   "outputs": [
    {
     "data": {
      "text/plain": [
       "LabelBinarizer(neg_label=0, pos_label=1, sparse_output=False)"
      ]
     },
     "execution_count": 158,
     "metadata": {},
     "output_type": "execute_result"
    }
   ],
   "source": [
    "#using mode=count\n",
    "X_train_count, X_test_count, Y_train_count, Y_test_count = train_test_split(user_comments,rationale_type, test_size = 0.20, random_state = 42)\n",
    "vocab_size= 10000\n",
    "tokenizer= Tokenizer(num_words=vocab_size)\n",
    "tokenizer.fit_on_texts(X_train_count)\n",
    "X_train_matrix_count= tokenizer.texts_to_matrix(X_train_count,mode='count')\n",
    "X_test_matrix_count= tokenizer.texts_to_matrix(X_test_count, mode='count')\n",
    "\n",
    "encoder= LabelBinarizer()\n",
    "encoder.fit(Y_train)\n",
    "Y_train_matrix_count= encoder.transform(Y_train_count)\n",
    "Y_test_matrix_count= encoder.transform(Y_test_count)"
   ]
  },
  {
   "cell_type": "code",
   "execution_count": 159,
   "metadata": {},
   "outputs": [
    {
     "name": "stdout",
     "output_type": "stream",
     "text": [
      "(3415, 10000) (3415, 3)\n"
     ]
    }
   ],
   "source": [
    "#using mode=binary\n",
    "from imblearn.over_sampling import SMOTE\n",
    "smote = SMOTE('minority')\n",
    "X_sm_count, y_sm_count = smote.fit_sample(X_train_matrix_count, Y_train_matrix_count)\n",
    "print(X_sm_count.shape, y_sm_count.shape)"
   ]
  },
  {
   "cell_type": "code",
   "execution_count": 119,
   "metadata": {},
   "outputs": [
    {
     "name": "stdout",
     "output_type": "stream",
     "text": [
      "_________________________________________________________________\n",
      "Layer (type)                 Output Shape              Param #   \n",
      "=================================================================\n",
      "dense_23 (Dense)             (None, 512)               5120512   \n",
      "_________________________________________________________________\n",
      "activation_19 (Activation)   (None, 512)               0         \n",
      "_________________________________________________________________\n",
      "dropout_10 (Dropout)         (None, 512)               0         \n",
      "_________________________________________________________________\n",
      "dense_24 (Dense)             (None, 3)                 1539      \n",
      "_________________________________________________________________\n",
      "activation_20 (Activation)   (None, 3)                 0         \n",
      "=================================================================\n",
      "Total params: 5,122,051\n",
      "Trainable params: 5,122,051\n",
      "Non-trainable params: 0\n",
      "_________________________________________________________________\n",
      "['loss', 'acc']\n",
      "Train on 3073 samples, validate on 342 samples\n",
      "Epoch 1/5\n",
      "3073/3073 [==============================] - 15s 5ms/step - loss: 0.7503 - acc: 0.7094 - val_loss: 0.2725 - val_acc: 0.9532\n",
      "Epoch 2/5\n",
      "3073/3073 [==============================] - 13s 4ms/step - loss: 0.3140 - acc: 0.8946 - val_loss: 0.0950 - val_acc: 0.9883\n",
      "Epoch 3/5\n",
      "3073/3073 [==============================] - 13s 4ms/step - loss: 0.1459 - acc: 0.9541 - val_loss: 0.0260 - val_acc: 1.0000\n",
      "Epoch 4/5\n",
      "3073/3073 [==============================] - 13s 4ms/step - loss: 0.0723 - acc: 0.9831 - val_loss: 0.0158 - val_acc: 1.0000\n",
      "Epoch 5/5\n",
      "3073/3073 [==============================] - 13s 4ms/step - loss: 0.0374 - acc: 0.9938 - val_loss: 0.0121 - val_acc: 1.0000\n",
      "545/545 [==============================] - 0s 346us/step\n",
      "Test Loss: 3.553666489277411\n",
      "Test Accuracy: 0.6238532094780458\n"
     ]
    }
   ],
   "source": [
    "#continue count \n",
    "MAX_SEQUENCE_LENGTH = 500\n",
    "#print(vocab_size)\n",
    "model = Sequential()\n",
    "model.add(Dense(512, input_shape=(vocab_size, )))\n",
    "model.add(Activation('relu'))\n",
    "model.add(Dropout(0.5))\n",
    "model.add(Dense(3))\n",
    "model.add(Activation('softmax'))\n",
    "model.compile(loss='categorical_crossentropy', optimizer= 'adam', metrics=['accuracy'])\n",
    "model. summary()\n",
    "print(model.metrics_names)\n",
    "\n",
    "batch_size= 12\n",
    "epochs= 5\n",
    "history= model.fit(X_sm_count,y_sm_count, batch_size=batch_size, epochs=epochs, verbose=1, validation_split=0.1)\n",
    "score= model.evaluate(X_test_matrix, Y_test_matrix, batch_size=batch_size, verbose=1)\n",
    "print(\"Test Loss: {}\". format(score[0]))\n",
    "print(\"Test Accuracy: {}\". format(score[1]))"
   ]
  },
  {
   "cell_type": "code",
   "execution_count": 120,
   "metadata": {},
   "outputs": [
    {
     "name": "stdout",
     "output_type": "stream",
     "text": [
      "545/545 [==============================] - 1s 940us/step\n",
      "              precision    recall  f1-score   support\n",
      "\n",
      "           0       0.78      0.82      0.80       370\n",
      "           1       0.55      0.48      0.51       130\n",
      "           2       0.27      0.24      0.26        45\n",
      "\n",
      "   micro avg       0.69      0.69      0.69       545\n",
      "   macro avg       0.53      0.52      0.52       545\n",
      "weighted avg       0.68      0.69      0.69       545\n",
      "\n"
     ]
    }
   ],
   "source": [
    "pred = model.predict(X_test_matrix_count, batch_size=12, verbose=1)\n",
    "predicted = np.argmax(pred, axis=1)\n",
    "report = classification_report(np.argmax(Y_test_matrix_count, axis=1), predicted)\n",
    "print(report)\n"
   ]
  },
  {
   "cell_type": "code",
   "execution_count": 121,
   "metadata": {},
   "outputs": [
    {
     "data": {
      "image/png": "[encoded data removed]",
      "text/plain": [
       "<Figure size 432x288 with 1 Axes>"
      ]
     },
     "metadata": {
      "needs_background": "light"
     },
     "output_type": "display_data"
    }
   ],
   "source": [
    "plt.title('Loss')\n",
    "plt.plot(history.history['loss'], label='train')\n",
    "plt.plot(history.history['val_loss'], label='test')\n",
    "plt.legend()\n",
    "plt.show();"
   ]
  },
  {
   "cell_type": "code",
   "execution_count": 122,
   "metadata": {},
   "outputs": [
    {
     "data": {
      "image/png": "[encoded data removed]",
      "text/plain": [
       "<Figure size 432x288 with 1 Axes>"
      ]
     },
     "metadata": {
      "needs_background": "light"
     },
     "output_type": "display_data"
    }
   ],
   "source": [
    "plt.title('Accuracy')\n",
    "plt.plot(history.history['acc'], label='train')\n",
    "plt.plot(history.history['val_acc'], label='test')\n",
    "plt.legend()\n",
    "plt.show();"
   ]
  },
  {
   "cell_type": "code",
   "execution_count": null,
   "metadata": {},
   "outputs": [],
   "source": []
  },
  {
   "cell_type": "code",
   "execution_count": 123,
   "metadata": {},
   "outputs": [
    {
     "name": "stdout",
     "output_type": "stream",
     "text": [
      "(545, 10000)\n",
      "Actual label:claim\n",
      "Predicted label: claim\n",
      "Actual label:claim\n",
      "Predicted label: claim\n",
      "Actual label:claim\n",
      "Predicted label: claim\n",
      "Actual label:feature\n",
      "Predicted label: feature\n",
      "Actual label:claim\n",
      "Predicted label: feature\n",
      "Actual label:issue\n",
      "Predicted label: issue\n",
      "Actual label:claim\n",
      "Predicted label: issue\n",
      "Actual label:feature\n",
      "Predicted label: issue\n",
      "Actual label:issue\n",
      "Predicted label: claim\n",
      "Actual label:claim\n",
      "Predicted label: claim\n",
      "Normalized confusion matrix\n"
     ]
    },
    {
     "data": {
      "image/png": "[encoded data removed]",
      "text/plain": [
       "<Figure size 360x432 with 2 Axes>"
      ]
     },
     "metadata": {
      "needs_background": "light"
     },
     "output_type": "display_data"
    }
   ],
   "source": [
    "import numpy as np\n",
    "import matplotlib.pyplot as plt\n",
    "from sklearn.metrics import confusion_matrix\n",
    "import itertools\n",
    "\n",
    "\n",
    "print(X_test_matrix.shape)\n",
    "text_labels = encoder.classes_\n",
    "\n",
    "for i in range(10):\n",
    "    prediction = model.predict(np.array([X_test_matrix[i]]))\n",
    "    predicted_label = text_labels[np.argmax(prediction[0])]\n",
    "    #print(test_files_names.iloc[i])\n",
    "    print('Actual label:' + Y_test.iloc[i])\n",
    "    print(\"Predicted label: \" + predicted_label)\n",
    "\n",
    "def plot_confusion_matrix(cm, classes,\n",
    "                          normalize=False,\n",
    "                          title='Confusion matrix',\n",
    "                          cmap=plt.cm.Blues):\n",
    "    \"\"\"\n",
    "    This function prints and plots the confusion matrix.\n",
    "    Normalization can be applied by setting `normalize=True`.\n",
    "    \"\"\"\n",
    "    if normalize:\n",
    "        cm = cm.astype('float') / cm.sum(axis=1)[:, np.newaxis]\n",
    "        print(\"Normalized confusion matrix\")\n",
    "    else:\n",
    "        print('Confusion matrix, without normalization')\n",
    "\n",
    "    # print(cm)\n",
    "    plt.imshow(cm, interpolation='nearest', cmap=cmap)\n",
    "    plt.title(title)\n",
    "    plt.colorbar()\n",
    "    tick_marks = np.arange(len(classes))\n",
    "    plt.xticks(tick_marks, classes, rotation=90)\n",
    "    plt.yticks(tick_marks, classes)\n",
    "\n",
    "    fmt = '.2f' if normalize else 'd'\n",
    "    thresh = cm.max() / 2.\n",
    "    for i, j in itertools.product(range(cm.shape[0]), range(cm.shape[1])):\n",
    "        plt.text(j, i, format(cm[i, j], fmt),\n",
    "                 horizontalalignment=\"center\",\n",
    "                 color=\"white\" if cm[i, j] > thresh else \"black\")\n",
    "\n",
    "    plt.tight_layout()\n",
    "    plt.ylabel('True label')\n",
    "    plt.xlabel('Predicted label')\n",
    "\n",
    "\n",
    "y_pred = model.predict(X_test_matrix);\n",
    "cnf_matrix = confusion_matrix(np.argmax(Y_test_matrix, axis=1), np.argmax(y_pred, axis=1))\n",
    "\n",
    "# Plot normalized confusion matrix\n",
    "fig = plt.figure()\n",
    "fig.set_size_inches(5, 6, forward=True)\n",
    "#fig.align_labels()\n",
    "\n",
    "# fig.subplots_adjust(left=0.0, right=1.0, bottom=0.0, top=1.0)\n",
    "plot_confusion_matrix(cnf_matrix, classes=np.asarray(rationale_type_name), normalize=True,\n",
    "                      title='Normalized confusion matrix')\n",
    "\n",
    "fig.savefig(\"txt_classification-smote\" + str(12) + \".png\", pad_inches=5.0)"
   ]
  },
  {
   "cell_type": "code",
   "execution_count": null,
   "metadata": {},
   "outputs": [],
   "source": [
    "\n"
   ]
  },
  {
   "cell_type": "code",
   "execution_count": 124,
   "metadata": {},
   "outputs": [],
   "source": [
    "prediction = model.predict(X_test_matrix)"
   ]
  },
  {
   "cell_type": "code",
   "execution_count": 125,
   "metadata": {},
   "outputs": [],
   "source": [
    "predictions = np.argmax(prediction, axis = 1)\n"
   ]
  },
  {
   "cell_type": "code",
   "execution_count": 126,
   "metadata": {},
   "outputs": [
    {
     "data": {
      "text/plain": [
       "array([0, 0, 0, 1, 1, 2, 2, 2, 0, 0, 1, 2, 0, 0, 1, 0, 0, 2, 0, 1, 0, 0,\n",
       "       2, 0, 1, 1, 0, 0, 0, 2, 1, 1, 1, 0, 0, 0, 1, 0, 0, 0, 2, 1, 0, 0,\n",
       "       0, 0, 0, 0, 2, 0, 0, 0, 0, 0, 1, 1, 1, 1, 0, 0, 2, 0, 0, 1, 0, 0,\n",
       "       1, 0, 2, 0, 1, 0, 2, 0, 2, 1, 0, 0, 2, 0, 0, 0, 0, 0, 2, 0, 0, 0,\n",
       "       0, 0, 0, 2, 1, 0, 0, 0, 0, 2, 0, 0, 0, 0, 2, 0, 1, 0, 0, 1, 0, 0,\n",
       "       0, 0, 1, 0, 0, 1, 0, 1, 1, 2, 1, 0, 0, 0, 2, 0, 0, 0, 0, 0, 0, 1,\n",
       "       0, 0, 1, 0, 0, 2, 1, 2, 0, 0, 0, 0, 0, 0, 0, 0, 1, 0, 0, 0, 0, 2,\n",
       "       0, 0, 0, 0, 0, 0, 1, 2, 2, 2, 0, 1, 2, 0, 0, 0, 0, 0, 2, 0, 1, 1,\n",
       "       0, 2, 0, 2, 0, 0, 1, 0, 0, 0, 0, 0, 0, 1, 0, 2, 0, 1, 1, 0, 0, 0,\n",
       "       0, 2, 0, 1, 0, 0, 1, 1, 0, 2, 0, 0, 0, 0, 0, 1, 1, 1, 0, 1, 2, 0,\n",
       "       1, 0, 2, 2, 2, 2, 0, 1, 1, 1, 1, 1, 1, 0, 0, 2, 1, 2, 1, 1, 0, 1,\n",
       "       0, 1, 2, 0, 1, 0, 0, 2, 2, 0, 2, 0, 0, 0, 2, 0, 0, 0, 0, 0, 0, 0,\n",
       "       2, 0, 0, 0, 0, 0, 1, 0, 0, 0, 0, 0, 0, 0, 0, 0, 0, 0, 0, 0, 1, 0,\n",
       "       0, 0, 0, 1, 0, 0, 2, 0, 0, 0, 0, 2, 2, 0, 0, 0, 0, 1, 0, 0, 1, 0,\n",
       "       2, 2, 0, 0, 1, 0, 0, 0, 0, 1, 0, 0, 0, 1, 2, 1, 0, 0, 2, 0, 1, 0,\n",
       "       1, 0, 2, 0, 1, 0, 0, 1, 2, 1, 0, 1, 1, 0, 0, 0, 0, 1, 0, 0, 0, 1,\n",
       "       1, 0, 2, 0, 1, 1, 0, 0, 0, 0, 0, 0, 2, 0, 2, 0, 0, 0, 0, 0, 0, 0,\n",
       "       2, 1, 0, 0, 0, 0, 0, 0, 0, 1, 0, 1, 0, 0, 0, 0, 0, 1, 0, 0, 0, 0,\n",
       "       2, 0, 0, 0, 2, 0, 0, 1, 0, 1, 0, 0, 0, 0, 1, 1, 0, 0, 2, 0, 0, 1,\n",
       "       0, 0, 0, 2, 0, 1, 0, 1, 0, 0, 1, 0, 0, 0, 1, 0, 0, 0, 0, 0, 2, 0,\n",
       "       0, 0, 0, 0, 0, 0, 0, 0, 1, 1, 0, 2, 1, 0, 0, 2, 0, 0, 0, 0, 0, 1,\n",
       "       0, 2, 0, 0, 2, 1, 2, 2, 2, 0, 2, 0, 0, 0, 1, 0, 2, 2, 0, 0, 0, 0,\n",
       "       0, 0, 1, 0, 0, 0, 1, 0, 2, 0, 0, 2, 0, 1, 0, 0, 1, 0, 2, 2, 0, 0,\n",
       "       0, 0, 1, 1, 1, 0, 0, 1, 0, 0, 0, 1, 0, 0, 0, 0, 0, 0, 0, 0, 0, 0,\n",
       "       2, 1, 0, 0, 1, 0, 0, 0, 0, 2, 2, 0, 0, 1, 0, 2, 0], dtype=int64)"
      ]
     },
     "execution_count": 126,
     "metadata": {},
     "output_type": "execute_result"
    }
   ],
   "source": [
    "predictions"
   ]
  },
  {
   "cell_type": "code",
   "execution_count": 127,
   "metadata": {},
   "outputs": [],
   "source": [
    "y_test_labels = np.argmax(Y_test_matrix, axis =1)\n"
   ]
  },
  {
   "cell_type": "code",
   "execution_count": 128,
   "metadata": {},
   "outputs": [
    {
     "data": {
      "text/plain": [
       "array([0, 0, 0, 1, 0, 2, 0, 1, 2, 0, 0, 0, 1, 2, 1, 0, 0, 0, 0, 1, 0, 1,\n",
       "       1, 0, 0, 1, 0, 0, 0, 0, 0, 0, 1, 0, 1, 0, 0, 0, 0, 0, 0, 1, 0, 0,\n",
       "       0, 0, 0, 0, 2, 0, 0, 1, 0, 2, 1, 0, 1, 1, 2, 0, 0, 0, 0, 0, 1, 0,\n",
       "       1, 0, 2, 0, 1, 0, 1, 1, 0, 1, 0, 0, 1, 0, 0, 1, 1, 0, 1, 1, 0, 1,\n",
       "       0, 0, 0, 0, 0, 1, 0, 0, 0, 0, 0, 0, 0, 0, 0, 0, 0, 0, 0, 0, 0, 0,\n",
       "       0, 0, 2, 0, 0, 1, 0, 1, 1, 0, 1, 2, 0, 1, 2, 0, 0, 0, 1, 0, 0, 0,\n",
       "       0, 0, 1, 0, 0, 2, 1, 0, 1, 0, 0, 0, 0, 1, 0, 0, 0, 0, 0, 0, 0, 1,\n",
       "       0, 0, 0, 0, 1, 0, 1, 0, 0, 2, 2, 0, 2, 0, 0, 0, 0, 0, 0, 0, 1, 1,\n",
       "       0, 0, 0, 1, 0, 0, 1, 0, 0, 0, 1, 0, 0, 0, 0, 1, 0, 2, 0, 0, 0, 0,\n",
       "       0, 0, 0, 2, 1, 0, 1, 1, 0, 0, 0, 0, 0, 0, 0, 1, 2, 0, 0, 0, 1, 0,\n",
       "       0, 0, 1, 0, 0, 0, 0, 0, 0, 1, 2, 1, 0, 1, 0, 2, 1, 2, 0, 1, 0, 1,\n",
       "       2, 0, 0, 0, 0, 0, 0, 0, 0, 0, 1, 0, 0, 0, 0, 0, 2, 0, 0, 0, 1, 1,\n",
       "       0, 0, 1, 1, 0, 1, 1, 0, 0, 0, 0, 1, 0, 0, 1, 0, 0, 0, 0, 0, 0, 2,\n",
       "       0, 0, 0, 1, 0, 0, 1, 1, 1, 1, 0, 0, 0, 0, 0, 0, 0, 1, 0, 2, 1, 0,\n",
       "       2, 0, 0, 0, 1, 0, 0, 0, 0, 0, 0, 0, 1, 1, 0, 1, 2, 0, 2, 1, 1, 0,\n",
       "       1, 0, 0, 0, 1, 1, 0, 1, 0, 1, 0, 0, 1, 0, 0, 0, 0, 0, 0, 0, 1, 0,\n",
       "       0, 0, 0, 0, 0, 0, 0, 0, 0, 0, 1, 0, 0, 0, 1, 0, 0, 1, 2, 0, 0, 1,\n",
       "       0, 0, 1, 0, 0, 2, 0, 0, 0, 2, 0, 1, 1, 0, 0, 0, 0, 2, 0, 1, 0, 1,\n",
       "       2, 0, 2, 1, 0, 0, 2, 0, 0, 1, 1, 0, 0, 0, 0, 1, 0, 1, 0, 0, 0, 1,\n",
       "       0, 0, 0, 0, 0, 0, 0, 1, 0, 0, 0, 2, 0, 0, 1, 1, 1, 0, 0, 2, 2, 0,\n",
       "       0, 2, 1, 0, 1, 0, 0, 0, 1, 0, 0, 0, 1, 1, 0, 2, 0, 0, 0, 0, 0, 0,\n",
       "       2, 0, 0, 0, 0, 1, 0, 0, 1, 0, 0, 0, 0, 0, 0, 0, 1, 1, 0, 1, 0, 0,\n",
       "       1, 1, 0, 0, 0, 0, 0, 0, 0, 0, 0, 0, 1, 0, 1, 0, 0, 0, 0, 0, 0, 0,\n",
       "       1, 1, 2, 1, 0, 0, 0, 1, 0, 0, 1, 2, 0, 0, 0, 2, 1, 0, 0, 0, 0, 0,\n",
       "       0, 0, 0, 0, 0, 2, 0, 0, 2, 0, 1, 0, 0, 1, 1, 0, 0], dtype=int64)"
      ]
     },
     "execution_count": 128,
     "metadata": {},
     "output_type": "execute_result"
    }
   ],
   "source": [
    "y_test_labels"
   ]
  },
  {
   "cell_type": "code",
   "execution_count": 129,
   "metadata": {},
   "outputs": [
    {
     "data": {
      "text/plain": [
       "array([0, 0, 0, ..., 0, 0, 0], dtype=int64)"
      ]
     },
     "execution_count": 129,
     "metadata": {},
     "output_type": "execute_result"
    }
   ],
   "source": [
    "y_train_labels = np.argmax(Y_train_matrix, axis =1)\n",
    "y_train_labels"
   ]
  },
  {
   "cell_type": "code",
   "execution_count": 130,
   "metadata": {},
   "outputs": [],
   "source": [
    "#The Kappa score tell you how much better, or worse, your classifier is than what would be expected by random chance. \n",
    "#If you were to randomly assign cases to classes (i.e. a kind of terribly uninformed classifier), you'd get some correct simply by chance. \n",
    "#Therefore, you will always find that the Kappa value is lower than the overall accuracy. \n",
    "#The Kappa index is however considered to be a more conservative measure than the overall classification accuracy. \n",
    "#Your KIA value is telling you essentially that your classifier is about 66% better than a random assignment of cases to the various classes. That's not bad!\n",
    "#A kappa value of 1 represents perfect agreement, while a value of 0 represents no agreement.\n",
    "\n",
    "from sklearn.metrics import cohen_kappa_score\n",
    "cohen_score = cohen_kappa_score(y_test_labels, predictions)"
   ]
  },
  {
   "cell_type": "code",
   "execution_count": 131,
   "metadata": {},
   "outputs": [
    {
     "data": {
      "text/plain": [
       "0.24968939928142098"
      ]
     },
     "execution_count": 131,
     "metadata": {},
     "output_type": "execute_result"
    }
   ],
   "source": [
    "cohen_score"
   ]
  },
  {
   "cell_type": "code",
   "execution_count": 132,
   "metadata": {},
   "outputs": [
    {
     "name": "stdout",
     "output_type": "stream",
     "text": [
      "precision: [0.77207977 0.49107143 0.17073171]\n",
      "recall: [0.73243243 0.42307692 0.31111111]\n",
      "fscore: [0.7517337  0.45454545 0.22047244]\n",
      "support: [370 130  45]\n"
     ]
    }
   ],
   "source": [
    "from sklearn.metrics import precision_recall_fscore_support as score\n",
    "\n",
    "precision, recall, fscore, support = score(y_test_labels, predictions)\n",
    "\n",
    "print('precision: {}'.format(precision))\n",
    "print('recall: {}'.format(recall))\n",
    "print('fscore: {}'.format(fscore))\n",
    "print('support: {}'.format(support))"
   ]
  },
  {
   "cell_type": "code",
   "execution_count": 133,
   "metadata": {},
   "outputs": [
    {
     "name": "stdout",
     "output_type": "stream",
     "text": [
      "[0.73243243 0.42307692 0.31111111]\n",
      "[0.77207977 0.49107143 0.17073171]\n"
     ]
    }
   ],
   "source": [
    "\n",
    "from sklearn.metrics import confusion_matrix\n",
    "import numpy as np\n",
    "\n",
    "\n",
    "cm = confusion_matrix(y_test_labels, predictions)\n",
    "recall = np.diag(cm) / np.sum(cm, axis = 1)\n",
    "precision = np.diag(cm) / np.sum(cm, axis = 0)\n",
    "\n",
    "print(recall)\n",
    "\n",
    "print(precision)"
   ]
  },
  {
   "cell_type": "code",
   "execution_count": 164,
   "metadata": {},
   "outputs": [
    {
     "data": {
      "text/plain": [
       "LabelBinarizer(neg_label=0, pos_label=1, sparse_output=False)"
      ]
     },
     "execution_count": 164,
     "metadata": {},
     "output_type": "execute_result"
    },
    {
     "name": "stdout",
     "output_type": "stream",
     "text": [
      "(2180, 1000) (545, 1000) (2180, 3) (545, 3)\n"
     ]
    }
   ],
   "source": [
    "#another approach using GRU model, takes longer time\n",
    "from tensorflow.python.keras.preprocessing.text import Tokenizer\n",
    "from tensorflow.python.keras.preprocessing.sequence import pad_sequences\n",
    "\n",
    "tokenizer_obj = Tokenizer()\n",
    "tokenizer_obj.fit_on_texts(X_train) \n",
    "\n",
    "# pad sequences\n",
    "#max_length = max([len(s.split()) for s in X_train])\n",
    "max_length=1000\n",
    "# define vocabulary size\n",
    "vocab_size = len(tokenizer_obj.word_index) + 1\n",
    "\n",
    "X_train_tokens =  tokenizer_obj.texts_to_sequences(X_train)\n",
    "X_test_tokens = tokenizer_obj.texts_to_sequences(X_test)\n",
    "\n",
    "\n",
    "X_train_pad = pad_sequences(X_train_tokens, maxlen=max_length, padding='post')\n",
    "X_test_pad = pad_sequences(X_test_tokens, maxlen=max_length, padding='post')\n",
    "\n",
    "encoder = LabelBinarizer()\n",
    "encoder.fit(Y_train)\n",
    "y_train_pad = encoder.transform(Y_train)\n",
    "y_test_pad = encoder.transform(Y_test)\n",
    "print(X_train_pad.shape, X_test_pad.shape, y_train_pad.shape,y_test_pad.shape  )"
   ]
  },
  {
   "cell_type": "code",
   "execution_count": 165,
   "metadata": {},
   "outputs": [
    {
     "name": "stdout",
     "output_type": "stream",
     "text": [
      "(3415, 1000) (3415, 3)\n"
     ]
    }
   ],
   "source": [
    "#Let us try some sampling technique to remove class imbalance\n",
    "from imblearn.over_sampling import SMOTE\n",
    "#Over-sampling: SMOTE\n",
    "#SMOTE (Synthetic Minority Oversampling TEchnique) consists of synthesizing elements for the minority class, \n",
    "#based on those that already exist. It works randomly picking a point from the minority class and computing \n",
    "#the k-nearest neighbors for this point.The synthetic points are added between the chosen point and its neighbors.\n",
    "#We'll use ratio='minority' to resample the minority class.\n",
    "smote = SMOTE('minority')\n",
    "\n",
    "X_sm_deep, y_sm_deep = smote.fit_sample(X_train_pad, y_train)\n",
    "print(X_sm_deep.shape, y_sm_deep.shape)"
   ]
  },
  {
   "cell_type": "code",
   "execution_count": 166,
   "metadata": {},
   "outputs": [
    {
     "name": "stdout",
     "output_type": "stream",
     "text": [
      "Build model...\n",
      "Summary of the built model...\n",
      "_________________________________________________________________\n",
      "Layer (type)                 Output Shape              Param #   \n",
      "=================================================================\n",
      "embedding_9 (Embedding)      (None, 1000, 100)         578700    \n",
      "_________________________________________________________________\n",
      "gru_7 (GRU)                  (None, 32)                12768     \n",
      "_________________________________________________________________\n",
      "dense_29 (Dense)             (None, 3)                 99        \n",
      "=================================================================\n",
      "Total params: 591,567\n",
      "Trainable params: 591,567\n",
      "Non-trainable params: 0\n",
      "_________________________________________________________________\n",
      "None\n"
     ]
    }
   ],
   "source": [
    "#another approach using GRU model, takes longer time\n",
    "from keras.models import Sequential\n",
    "from keras.layers import Dense, Embedding, LSTM, GRU\n",
    "from keras.layers.embeddings import Embedding\n",
    "\n",
    "EMBEDDING_DIM = 100\n",
    "\n",
    "print('Build model...')\n",
    "\n",
    "model = Sequential()\n",
    "model.add(Embedding(vocab_size, EMBEDDING_DIM, input_length=max_length))\n",
    "model.add(GRU(units=32,  dropout=0.2, recurrent_dropout=0.2))\n",
    "model.add(Dense(3, activation='softmax'))\n",
    "\n",
    "# try using different optimizers and different optimizer configs\n",
    "model.compile(loss='categorical_crossentropy', optimizer='adam', metrics=['accuracy'])\n",
    "\n",
    "print('Summary of the built model...')\n",
    "print(model.summary())"
   ]
  },
  {
   "cell_type": "code",
   "execution_count": 167,
   "metadata": {},
   "outputs": [
    {
     "name": "stdout",
     "output_type": "stream",
     "text": [
      "Train on 3073 samples, validate on 342 samples\n",
      "Epoch 1/2\n",
      "3073/3073 [==============================] - 118s 38ms/step - loss: 1.0180 - acc: 0.4771 - val_loss: 0.9858 - val_acc: 0.0000e+00\n",
      "Epoch 2/2\n",
      "3073/3073 [==============================] - 117s 38ms/step - loss: 1.0142 - acc: 0.4719 - val_loss: 1.0892 - val_acc: 0.0000e+00\n"
     ]
    }
   ],
   "source": [
    "from sklearn.utils import class_weight\n",
    "#class_weight = class_weight.compute_class_weight('balanced' ,np.unique(y_train_labels) ,y_train_labels)\n",
    "num_epochs =2\n",
    "batch_size = 12\n",
    "history = model.fit(X_sm_deep, y_sm_deep,\n",
    "                    batch_size=batch_size,\n",
    "                    epochs=num_epochs,\n",
    "                    verbose=1,\n",
    "                    validation_split=0.1)"
   ]
  },
  {
   "cell_type": "code",
   "execution_count": 138,
   "metadata": {},
   "outputs": [
    {
     "name": "stdout",
     "output_type": "stream",
     "text": [
      "545/545 [==============================] - 1s 3ms/step\n",
      "              precision    recall  f1-score   support\n",
      "\n",
      "           0       0.68      1.00      0.81       370\n",
      "           1       0.00      0.00      0.00       130\n",
      "           2       0.00      0.00      0.00        45\n",
      "\n",
      "   micro avg       0.68      0.68      0.68       545\n",
      "   macro avg       0.23      0.33      0.27       545\n",
      "weighted avg       0.46      0.68      0.55       545\n",
      "\n"
     ]
    },
    {
     "name": "stderr",
     "output_type": "stream",
     "text": [
      "C:\\Users\\Ali\\Anaconda3\\lib\\site-packages\\sklearn\\metrics\\classification.py:1143: UndefinedMetricWarning:\n",
      "\n",
      "Precision and F-score are ill-defined and being set to 0.0 in labels with no predicted samples.\n",
      "\n"
     ]
    }
   ],
   "source": [
    "pred = model.predict(X_test_pad, batch_size=12, verbose=1)\n",
    "predicted = np.argmax(pred, axis=1)\n",
    "report = classification_report(np.argmax(y_test_pad, axis=1), predicted)\n",
    "print(report)"
   ]
  },
  {
   "cell_type": "code",
   "execution_count": 139,
   "metadata": {},
   "outputs": [
    {
     "data": {
      "image/png": "[encoded data removed]",
      "text/plain": [
       "<Figure size 432x288 with 1 Axes>"
      ]
     },
     "metadata": {
      "needs_background": "light"
     },
     "output_type": "display_data"
    }
   ],
   "source": [
    "plt.title('Loss')\n",
    "plt.plot(history.history['loss'], label='train')\n",
    "plt.plot(history.history['val_loss'], label='test')\n",
    "plt.legend()\n",
    "plt.show();"
   ]
  },
  {
   "cell_type": "code",
   "execution_count": 140,
   "metadata": {},
   "outputs": [
    {
     "data": {
      "image/png": "[encoded data removed]",
      "text/plain": [
       "<Figure size 432x288 with 1 Axes>"
      ]
     },
     "metadata": {
      "needs_background": "light"
     },
     "output_type": "display_data"
    }
   ],
   "source": [
    "plt.title('Accuracy')\n",
    "plt.plot(history.history['acc'], label='train')\n",
    "plt.plot(history.history['val_acc'], label='test')\n",
    "plt.legend()\n",
    "plt.show();"
   ]
  },
  {
   "cell_type": "code",
   "execution_count": 141,
   "metadata": {},
   "outputs": [
    {
     "name": "stdout",
     "output_type": "stream",
     "text": [
      "Found 5786 unique tokens.\n"
     ]
    }
   ],
   "source": [
    "from keras.preprocessing.text import Tokenizer\n",
    "\n",
    "# The maximum number of words to be used. (most frequent)\n",
    "MAX_NB_WORDS = 50000\n",
    "# Max number of words in each complaint.\n",
    "MAX_SEQUENCE_LENGTH = 500\n",
    "# This is fixed.\n",
    "EMBEDDING_DIM = 100\n",
    "\n",
    "tokenizer = Tokenizer(num_words=MAX_NB_WORDS,  lower=True)\n",
    "tokenizer.fit_on_texts(X_train)\n",
    "word_index = tokenizer.word_index\n",
    "#print (len(word_index))\n",
    "print('Found %s unique tokens.' % len(word_index))"
   ]
  },
  {
   "cell_type": "code",
   "execution_count": 142,
   "metadata": {},
   "outputs": [
    {
     "name": "stdout",
     "output_type": "stream",
     "text": [
      "Shape of data tensor: (2180, 500)\n",
      "Shape of data tensor: (545, 500)\n"
     ]
    }
   ],
   "source": [
    "from keras.preprocessing.sequence import pad_sequences\n",
    "\n",
    "X_sequence_train = tokenizer.texts_to_sequences(X_train)\n",
    "X_sequence_test = tokenizer.texts_to_sequences(X_test)\n",
    "\n",
    "X_train_pading = pad_sequences(X_sequence_train, maxlen=MAX_SEQUENCE_LENGTH)\n",
    "X_test_pading= pad_sequences(X_sequence_test, maxlen=MAX_SEQUENCE_LENGTH)\n",
    "\n",
    "print('Shape of data tensor:', X_train_pading.shape)\n",
    "print('Shape of data tensor:', X_test_pading.shape)"
   ]
  },
  {
   "cell_type": "code",
   "execution_count": 143,
   "metadata": {},
   "outputs": [
    {
     "data": {
      "text/plain": [
       "LabelBinarizer(neg_label=0, pos_label=1, sparse_output=False)"
      ]
     },
     "execution_count": 143,
     "metadata": {},
     "output_type": "execute_result"
    },
    {
     "name": "stdout",
     "output_type": "stream",
     "text": [
      "Shape of label tensor: (2180, 3)\n",
      "Shape of label tensor: (545, 3)\n"
     ]
    }
   ],
   "source": [
    "encoder= LabelBinarizer()\n",
    "encoder.fit(Y_train)\n",
    "Y_sequence_train= encoder.transform(Y_train)\n",
    "print('Shape of label tensor:', Y_sequence_train.shape)\n",
    "Y_sequence_test= encoder.transform(Y_test)\n",
    "print('Shape of label tensor:', Y_sequence_test.shape)\n",
    "\n",
    "#Y_sequence_train = pd.get_dummies(Y_train)\n",
    "#print('Shape of label tensor:', Y_sequence_train.shape)\n",
    "#Y_sequence_test = pd.get_dummies(Y_test)\n",
    "#print('Shape of label tensor:', Y_sequence_test.shape)"
   ]
  },
  {
   "cell_type": "code",
   "execution_count": 144,
   "metadata": {},
   "outputs": [
    {
     "name": "stdout",
     "output_type": "stream",
     "text": [
      "(3415, 500) (3415, 3)\n"
     ]
    }
   ],
   "source": [
    "from imblearn.over_sampling import SMOTE\n",
    "smote = SMOTE('minority')\n",
    "X_sm_deep1, y_sm_deep1 = smote.fit_sample(X_train_pading, Y_sequence_train)\n",
    "print(X_sm_deep1.shape, y_sm_deep1.shape)"
   ]
  },
  {
   "cell_type": "code",
   "execution_count": 145,
   "metadata": {},
   "outputs": [
    {
     "name": "stdout",
     "output_type": "stream",
     "text": [
      "_________________________________________________________________\n",
      "Layer (type)                 Output Shape              Param #   \n",
      "=================================================================\n",
      "embedding_6 (Embedding)      (None, 500, 100)          5000000   \n",
      "_________________________________________________________________\n",
      "lstm_2 (LSTM)                (None, 100)               80400     \n",
      "_________________________________________________________________\n",
      "dense_26 (Dense)             (None, 3)                 303       \n",
      "=================================================================\n",
      "Total params: 5,080,703\n",
      "Trainable params: 5,080,703\n",
      "Non-trainable params: 0\n",
      "_________________________________________________________________\n",
      "None\n"
     ]
    }
   ],
   "source": [
    "#LSTM TASK\n",
    "\n",
    "from keras.models import Sequential\n",
    "from keras.layers import Dense, Embedding, LSTM, SpatialDropout1D\n",
    "from sklearn.model_selection import train_test_split\n",
    "from keras.utils.np_utils import to_categorical\n",
    "from keras.callbacks import EarlyStopping\n",
    "from keras.layers import Dropout\n",
    "model = Sequential()\n",
    "model.add(Embedding(MAX_NB_WORDS, EMBEDDING_DIM, input_length=500))\n",
    "#model.add(SpatialDropout1D(0.2))\n",
    "model.add(LSTM(100, dropout=0.2, recurrent_dropout=0.2))\n",
    "model.add(Dense(3, activation='sigmoid'))\n",
    "model.compile(loss='categorical_crossentropy', optimizer='adam', metrics=['accuracy'])\n",
    "print(model.summary())"
   ]
  },
  {
   "cell_type": "code",
   "execution_count": 146,
   "metadata": {},
   "outputs": [
    {
     "name": "stdout",
     "output_type": "stream",
     "text": [
      "Train on 3073 samples, validate on 342 samples\n",
      "Epoch 1/10\n",
      "3073/3073 [==============================] - 98s 32ms/step - loss: 1.0022 - acc: 0.4888 - val_loss: 1.0822 - val_acc: 0.1316\n",
      "Epoch 2/10\n",
      "3073/3073 [==============================] - 94s 31ms/step - loss: 0.8055 - acc: 0.6424 - val_loss: 0.9022 - val_acc: 0.4912\n",
      "Epoch 3/10\n",
      "3073/3073 [==============================] - 94s 30ms/step - loss: 0.5609 - acc: 0.7719 - val_loss: 0.8262 - val_acc: 0.6111\n",
      "Epoch 4/10\n",
      "3073/3073 [==============================] - 90s 29ms/step - loss: 0.4049 - acc: 0.8471 - val_loss: 0.9805 - val_acc: 0.5731\n",
      "Epoch 5/10\n",
      "3073/3073 [==============================] - 91s 30ms/step - loss: 0.3024 - acc: 0.8920 - val_loss: 1.1023 - val_acc: 0.5731\n",
      "Epoch 6/10\n",
      "3073/3073 [==============================] - 91s 30ms/step - loss: 0.2283 - acc: 0.9216 - val_loss: 1.1852 - val_acc: 0.6170\n",
      "Epoch 7/10\n",
      "3073/3073 [==============================] - 92s 30ms/step - loss: 0.1780 - acc: 0.9352 - val_loss: 1.1484 - val_acc: 0.6696\n",
      "Epoch 8/10\n",
      "3073/3073 [==============================] - 91s 30ms/step - loss: 0.1223 - acc: 0.9577 - val_loss: 1.3199 - val_acc: 0.6316\n",
      "Epoch 9/10\n",
      "3073/3073 [==============================] - 90s 29ms/step - loss: 0.0793 - acc: 0.9766 - val_loss: 1.3135 - val_acc: 0.6988\n",
      "Epoch 10/10\n",
      "3073/3073 [==============================] - 90s 29ms/step - loss: 0.0831 - acc: 0.9736 - val_loss: 1.3888 - val_acc: 0.6579\n"
     ]
    }
   ],
   "source": [
    "from sklearn.utils import class_weight\n",
    "epochs = 10\n",
    "batch_size = 12\n",
    "history = model.fit(X_sm_deep1, y_sm_deep1, epochs=epochs, batch_size=batch_size,validation_split=0.1)\n",
    "# history = model.fit(X_sm_deep1, y_sm_deep1, epochs=epochs, batch_size=batch_size,validation_split=0.1,callbacks=[EarlyStopping(monitor='val_loss', patience=3, min_delta=0.0001)])"
   ]
  },
  {
   "cell_type": "code",
   "execution_count": null,
   "metadata": {},
   "outputs": [],
   "source": []
  },
  {
   "cell_type": "code",
   "execution_count": 148,
   "metadata": {},
   "outputs": [
    {
     "name": "stdout",
     "output_type": "stream",
     "text": [
      "545/545 [==============================] - 3s 5ms/step\n",
      "              precision    recall  f1-score   support\n",
      "\n",
      "           0       0.76      0.55      0.64       370\n",
      "           1       0.50      0.39      0.44       130\n",
      "           2       0.10      0.38      0.16        45\n",
      "\n",
      "   micro avg       0.50      0.50      0.50       545\n",
      "   macro avg       0.45      0.44      0.41       545\n",
      "weighted avg       0.65      0.50      0.55       545\n",
      "\n"
     ]
    }
   ],
   "source": [
    "pred = model.predict(X_test_pading, batch_size=12, verbose=1)\n",
    "predicted = np.argmax(pred, axis=1)\n",
    "report = classification_report(np.argmax(Y_sequence_test, axis=1), predicted)\n",
    "print(report)\n"
   ]
  },
  {
   "cell_type": "code",
   "execution_count": 149,
   "metadata": {},
   "outputs": [
    {
     "data": {
      "image/png": "[encoded data removed]",
      "text/plain": [
       "<Figure size 432x288 with 1 Axes>"
      ]
     },
     "metadata": {
      "needs_background": "light"
     },
     "output_type": "display_data"
    }
   ],
   "source": [
    "plt.title('Loss')\n",
    "plt.plot(history.history['loss'], label='train')\n",
    "plt.plot(history.history['val_loss'], label='test')\n",
    "plt.legend()\n",
    "plt.show();"
   ]
  },
  {
   "cell_type": "code",
   "execution_count": 150,
   "metadata": {},
   "outputs": [
    {
     "data": {
      "image/png": "[encoded data removed]",
      "text/plain": [
       "<Figure size 432x288 with 1 Axes>"
      ]
     },
     "metadata": {
      "needs_background": "light"
     },
     "output_type": "display_data"
    }
   ],
   "source": [
    "\n",
    "plt.title('Accuracy')\n",
    "plt.plot(history.history['acc'], label='train')\n",
    "plt.plot(history.history['val_acc'], label='test')\n",
    "plt.legend()\n",
    "plt.show();"
   ]
  },
  {
   "cell_type": "code",
   "execution_count": 298,
   "metadata": {},
   "outputs": [
    {
     "name": "stdout",
     "output_type": "stream",
     "text": [
      "[0, 1, 2]\n"
     ]
    }
   ],
   "source": [
    "#Bidirectional LSTM\n",
    "\n",
    "macronum=sorted(set(data['Rationale_Type']))\n",
    "print(macronum)\n",
    "#macro_to_id = dict((note, number) for number, note in enumerate(macronum))\n",
    "\n",
    "#def fun(i):\n",
    "    #return macro_to_id[i]\n",
    "\n",
    "#data['Rationale_Type']=data['Rationale_Type'].apply(fun)\n",
    "#print(df['Rationale_Type'])"
   ]
  },
  {
   "cell_type": "code",
   "execution_count": 299,
   "metadata": {},
   "outputs": [],
   "source": [
    "rationale_labels = []\n",
    "for idx in data['Rationale_Type']:\n",
    "    rationale_labels.append(idx)"
   ]
  },
  {
   "cell_type": "code",
   "execution_count": 300,
   "metadata": {},
   "outputs": [
    {
     "name": "stdout",
     "output_type": "stream",
     "text": [
      "Number of Unique Tokens 6531\n",
      "(2725, 1000) (2725, 3)\n"
     ]
    }
   ],
   "source": [
    "tokenizer = Tokenizer(num_words=MAX_NB_WORDS)\n",
    "tokenizer.fit_on_texts(user_comments)\n",
    "sequences_bidirectional = tokenizer.texts_to_sequences(user_comments)\n",
    "#print(X_sequences_train_bidirectional)\n",
    "#X_sequences_test_bidirectional = tokenizer.texts_to_sequences(X_test)\n",
    "word_index = tokenizer.word_index\n",
    "print('Number of Unique Tokens',len(word_index))\n",
    "\n",
    "final_data = pad_sequences(sequences_bidirectional, maxlen=MAX_SEQUENCE_LENGTH)\n",
    "#X_test_pad_bidirectional = pad_sequences(X_sequences_test_bidirectional, maxlen=MAX_SEQUENCE_LENGTH)\n",
    "\n",
    "\n",
    "#print(X_test_pad_bidirectional.shape)\n",
    "rationale_labels=to_categorical(np.asarray(rationale_labels))\n",
    "print(final_data.shape, rationale_labels.shape)\n",
    "#print(word_index)\n",
    "\n"
   ]
  },
  {
   "cell_type": "code",
   "execution_count": 301,
   "metadata": {},
   "outputs": [
    {
     "name": "stdout",
     "output_type": "stream",
     "text": [
      "(2180, 1000) (545, 1000) (2180, 3) (545, 3)\n"
     ]
    }
   ],
   "source": [
    "X_train_bidirectional, X_test_bidirectional, Y_train_bidirectional, Y_test_bidirectional = train_test_split(final_data,rationale_labels, test_size = 0.20, random_state = 42)\n",
    "print(X_train_bidirectional.shape, X_test_bidirectional.shape, Y_train_bidirectional.shape, Y_test_bidirectional.shape)"
   ]
  },
  {
   "cell_type": "code",
   "execution_count": 304,
   "metadata": {},
   "outputs": [],
   "source": [
    "MAX_SEQUENCE_LENGTH = 1000\n",
    "MAX_NB_WORDS = 20000\n",
    "EMBEDDING_DIM = 100\n",
    "VALIDATION_SPLIT = 0.1"
   ]
  },
  {
   "cell_type": "code",
   "execution_count": 303,
   "metadata": {},
   "outputs": [
    {
     "name": "stdout",
     "output_type": "stream",
     "text": [
      "Total 400000 word vectors in Glove 6B 100d.\n"
     ]
    }
   ],
   "source": [
    "embeddings_index = {}\n",
    "f = open('glove.6B.100d.txt',encoding='utf8')\n",
    "for line in f:\n",
    "    values = line.split()\n",
    "    word = values[0]\n",
    "    coefs = np.asarray(values[1:], dtype='float32')\n",
    "    embeddings_index[word] = coefs\n",
    "f.close()\n",
    "\n",
    "print('Total %s word vectors in Glove 6B 100d.' % len(embeddings_index))"
   ]
  },
  {
   "cell_type": "code",
   "execution_count": 305,
   "metadata": {},
   "outputs": [],
   "source": [
    "embedding_matrix = np.random.random((len(word_index) + 1, EMBEDDING_DIM))\n",
    "for word, i in word_index.items():\n",
    "    embedding_vector = embeddings_index.get(word)\n",
    "    if embedding_vector is not None:\n",
    "        # words not found in embedding index will be all-zeros.\n",
    "        embedding_matrix[i] = embedding_vector"
   ]
  },
  {
   "cell_type": "code",
   "execution_count": 306,
   "metadata": {},
   "outputs": [],
   "source": [
    "embedding_layer = Embedding(len(word_index) + 1,\n",
    "                            EMBEDDING_DIM,\n",
    "                            weights=[embedding_matrix],\n",
    "                            input_length=MAX_SEQUENCE_LENGTH,\n",
    "                            trainable=True)"
   ]
  },
  {
   "cell_type": "code",
   "execution_count": 307,
   "metadata": {},
   "outputs": [
    {
     "name": "stdout",
     "output_type": "stream",
     "text": [
      "(3415, 1000) (3415, 3)\n"
     ]
    }
   ],
   "source": [
    "from imblearn.over_sampling import SMOTE\n",
    "smote = SMOTE('minority')\n",
    "X_sm_bidirectional, y_sm_bidirectional = smote.fit_sample(X_train_bidirectional, Y_train_bidirectional)\n",
    "print(X_sm_bidirectional.shape, y_sm_bidirectional.shape)"
   ]
  },
  {
   "cell_type": "code",
   "execution_count": 308,
   "metadata": {},
   "outputs": [],
   "source": [
    "from keras.layers import Dense, Input, Flatten\n",
    "from keras.layers import Conv1D, MaxPooling1D, Embedding, Dropout, LSTM, GRU, Bidirectional\n",
    "from keras.models import Model\n",
    "from keras.callbacks import ModelCheckpoint\n",
    "import matplotlib.pyplot as plt\n",
    "plt.switch_backend('agg')\n",
    "from keras import backend as K\n",
    "from keras.engine.topology import Layer, InputSpec\n",
    "from keras import initializers"
   ]
  },
  {
   "cell_type": "code",
   "execution_count": 309,
   "metadata": {},
   "outputs": [
    {
     "name": "stdout",
     "output_type": "stream",
     "text": [
      "Bidirectional LSTM\n",
      "_________________________________________________________________\n",
      "Layer (type)                 Output Shape              Param #   \n",
      "=================================================================\n",
      "input_9 (InputLayer)         (None, 1000)              0         \n",
      "_________________________________________________________________\n",
      "embedding_20 (Embedding)     (None, 1000, 100)         653200    \n",
      "_________________________________________________________________\n",
      "bidirectional_9 (Bidirection (None, 200)               160800    \n",
      "_________________________________________________________________\n",
      "dense_38 (Dense)             (None, 3)                 603       \n",
      "=================================================================\n",
      "Total params: 814,603\n",
      "Trainable params: 814,603\n",
      "Non-trainable params: 0\n",
      "_________________________________________________________________\n"
     ]
    }
   ],
   "source": [
    "sequence_input = Input(shape=(MAX_SEQUENCE_LENGTH,), dtype='int32')\n",
    "embedded_sequences = embedding_layer(sequence_input)\n",
    "l_lstm = Bidirectional(LSTM(100))(embedded_sequences)\n",
    "preds = Dense(len(macronum), activation='softmax')(l_lstm)\n",
    "model = Model(sequence_input, preds)\n",
    "model.compile(loss='categorical_crossentropy',\n",
    "              optimizer='rmsprop',\n",
    "              metrics=['acc'])\n",
    "\n",
    "print(\"Bidirectional LSTM\")\n",
    "model.summary()"
   ]
  },
  {
   "cell_type": "code",
   "execution_count": 310,
   "metadata": {},
   "outputs": [
    {
     "name": "stdout",
     "output_type": "stream",
     "text": [
      "[0.49473493 1.48178358 3.2910628 ]\n"
     ]
    }
   ],
   "source": [
    "from sklearn.utils import class_weight\n",
    "class_weight= class_weight.compute_class_weight('balanced', np.unique(rationale_type),rationale_type)\n",
    "print(class_weight)"
   ]
  },
  {
   "cell_type": "code",
   "execution_count": 311,
   "metadata": {},
   "outputs": [
    {
     "name": "stdout",
     "output_type": "stream",
     "text": [
      "Train on 3415 samples, validate on 545 samples\n",
      "Epoch 1/15\n",
      "3415/3415 [==============================] - 249s 73ms/step - loss: 0.9641 - acc: 0.5236 - val_loss: 1.0930 - val_acc: 0.4661\n",
      "Epoch 2/15\n",
      "3415/3415 [==============================] - 244s 71ms/step - loss: 0.8215 - acc: 0.6436 - val_loss: 1.2433 - val_acc: 0.4037\n",
      "Epoch 3/15\n",
      "3415/3415 [==============================] - 244s 71ms/step - loss: 0.7228 - acc: 0.6899 - val_loss: 0.8027 - val_acc: 0.6514\n",
      "Epoch 4/15\n",
      "3415/3415 [==============================] - 244s 71ms/step - loss: 0.6244 - acc: 0.7406 - val_loss: 0.8852 - val_acc: 0.6147\n",
      "Epoch 5/15\n",
      "3415/3415 [==============================] - 243s 71ms/step - loss: 0.5255 - acc: 0.7886 - val_loss: 1.0052 - val_acc: 0.5780\n",
      "Epoch 6/15\n",
      "3415/3415 [==============================] - 243s 71ms/step - loss: 0.4328 - acc: 0.8228 - val_loss: 1.1049 - val_acc: 0.5670\n",
      "Epoch 7/15\n",
      "3415/3415 [==============================] - 243s 71ms/step - loss: 0.3523 - acc: 0.8615 - val_loss: 1.1205 - val_acc: 0.5413\n",
      "Epoch 8/15\n",
      "3415/3415 [==============================] - 243s 71ms/step - loss: 0.2690 - acc: 0.8993 - val_loss: 1.9049 - val_acc: 0.4954\n",
      "Epoch 9/15\n",
      "3415/3415 [==============================] - 242s 71ms/step - loss: 0.1997 - acc: 0.9280 - val_loss: 1.1829 - val_acc: 0.5890\n",
      "Epoch 10/15\n",
      "3415/3415 [==============================] - 5780s 2s/step - loss: 0.1426 - acc: 0.9496 - val_loss: 1.4992 - val_acc: 0.5890\n",
      "Epoch 11/15\n",
      "3415/3415 [==============================] - 244s 72ms/step - loss: 0.0974 - acc: 0.9690 - val_loss: 1.4053 - val_acc: 0.6055\n",
      "Epoch 12/15\n",
      "3415/3415 [==============================] - 244s 72ms/step - loss: 0.0593 - acc: 0.9810 - val_loss: 2.5442 - val_acc: 0.4899\n",
      "Epoch 13/15\n",
      "3415/3415 [==============================] - 245s 72ms/step - loss: 0.0446 - acc: 0.9874 - val_loss: 2.0431 - val_acc: 0.5780\n",
      "Epoch 14/15\n",
      "3415/3415 [==============================] - 244s 72ms/step - loss: 0.0295 - acc: 0.9921 - val_loss: 2.2600 - val_acc: 0.5963\n",
      "Epoch 15/15\n",
      "3415/3415 [==============================] - 244s 71ms/step - loss: 0.0218 - acc: 0.9944 - val_loss: 2.2161 - val_acc: 0.6055\n"
     ]
    }
   ],
   "source": [
    "\n",
    "\n",
    "cp=ModelCheckpoint('model_rnn.hdf5',monitor='val_acc',verbose=1,save_best_only=True)\n",
    "history=model.fit(X_sm_bidirectional, y_sm_bidirectional, validation_data=(X_test_bidirectional, Y_test_bidirectional),epochs=15, batch_size=12,class_weight=class_weight )"
   ]
  },
  {
   "cell_type": "code",
   "execution_count": 313,
   "metadata": {},
   "outputs": [
    {
     "name": "stdout",
     "output_type": "stream",
     "text": [
      "545/545 [==============================] - 7s 13ms/step\n",
      "              precision    recall  f1-score   support\n",
      "\n",
      "           0       0.77      0.72      0.74       370\n",
      "           1       0.49      0.35      0.41       130\n",
      "           2       0.17      0.40      0.24        45\n",
      "\n",
      "   micro avg       0.61      0.61      0.61       545\n",
      "   macro avg       0.48      0.49      0.46       545\n",
      "weighted avg       0.65      0.61      0.62       545\n",
      "\n"
     ]
    }
   ],
   "source": [
    "pred = model.predict(X_test_bidirectional, batch_size=12, verbose=1)\n",
    "predicted = np.argmax(pred, axis=1)\n",
    "report = classification_report(np.argmax(Y_test_bidirectional, axis=1), predicted)\n",
    "print(report)"
   ]
  },
  {
   "cell_type": "code",
   "execution_count": 314,
   "metadata": {},
   "outputs": [
    {
     "name": "stderr",
     "output_type": "stream",
     "text": [
      "C:\\Users\\Ali\\Anaconda3\\lib\\site-packages\\matplotlib\\figure.py:445: UserWarning:\n",
      "\n",
      "Matplotlib is currently using agg, which is a non-GUI backend, so cannot show the figure.\n",
      "\n"
     ]
    },
    {
     "data": {
      "image/png": "[encoded data removed]",
      "text/plain": [
       "<Figure size 432x288 with 1 Axes>"
      ]
     },
     "metadata": {
      "needs_background": "light"
     },
     "output_type": "display_data"
    }
   ],
   "source": [
    "plt.title('Loss')\n",
    "plt.plot(history.history['loss'], label='train')\n",
    "plt.plot(history.history['val_loss'], label='test')\n",
    "plt.legend()\n",
    "plt.show();"
   ]
  },
  {
   "cell_type": "code",
   "execution_count": 315,
   "metadata": {},
   "outputs": [
    {
     "data": {
      "image/png": "[encoded data removed]",
      "text/plain": [
       "<Figure size 432x288 with 1 Axes>"
      ]
     },
     "metadata": {
      "needs_background": "light"
     },
     "output_type": "display_data"
    }
   ],
   "source": [
    "\n",
    "plt.title('Accuracy')\n",
    "plt.plot(history.history['acc'], label='train')\n",
    "plt.plot(history.history['val_acc'], label='test')\n",
    "plt.legend()\n",
    "plt.show();"
   ]
  },
  {
   "cell_type": "code",
   "execution_count": 374,
   "metadata": {},
   "outputs": [],
   "source": [
    "#convotional network\n",
    "rationale_labels_convolutional = []\n",
    "for idx in data['Rationale_Type']:\n",
    "    rationale_labels_convolutional.append(idx)"
   ]
  },
  {
   "cell_type": "code",
   "execution_count": 375,
   "metadata": {},
   "outputs": [
    {
     "name": "stdout",
     "output_type": "stream",
     "text": [
      "Number of Unique Tokens 6531\n",
      "(2725, 1000) (2725, 3)\n"
     ]
    }
   ],
   "source": [
    "tokenizer = Tokenizer(num_words=MAX_NB_WORDS)\n",
    "tokenizer.fit_on_texts(user_comments)\n",
    "sequences_convolutional = tokenizer.texts_to_sequences(user_comments)\n",
    "#print(X_sequences_train_bidirectional)\n",
    "#X_sequences_test_bidirectional = tokenizer.texts_to_sequences(X_test)\n",
    "word_index = tokenizer.word_index\n",
    "print('Number of Unique Tokens',len(word_index))\n",
    "\n",
    "final_data_convolutional = pad_sequences(sequences_convolutional, maxlen=MAX_SEQUENCE_LENGTH)\n",
    "#X_test_pad_bidirectional = pad_sequences(X_sequences_test_bidirectional, maxlen=MAX_SEQUENCE_LENGTH)\n",
    "\n",
    "\n",
    "#print(X_test_pad_bidirectional.shape)\n",
    "rationale_labels_convolutional=to_categorical(np.asarray(rationale_labels_convolutional))\n",
    "print(final_data_convolutional.shape, rationale_labels_convolutional.shape)"
   ]
  },
  {
   "cell_type": "code",
   "execution_count": 376,
   "metadata": {},
   "outputs": [
    {
     "name": "stdout",
     "output_type": "stream",
     "text": [
      "(2180, 1000) (545, 1000) (2180, 3) (545, 3)\n"
     ]
    }
   ],
   "source": [
    "X_train_convolutional, X_test_convolutional, Y_train_convolutional, Y_test_convolutional = train_test_split(final_data_convolutional,rationale_labels_convolutional, test_size = 0.20, random_state = 42)\n",
    "print(X_train_convolutional.shape, X_test_convolutional.shape, Y_train_convolutional.shape, Y_test_convolutional.shape)"
   ]
  },
  {
   "cell_type": "code",
   "execution_count": 377,
   "metadata": {},
   "outputs": [],
   "source": [
    "MAX_SEQUENCE_LENGTH = 1000\n",
    "MAX_NB_WORDS = 20000\n",
    "EMBEDDING_DIM = 100\n",
    "VALIDATION_SPLIT = 0.1"
   ]
  },
  {
   "cell_type": "code",
   "execution_count": 378,
   "metadata": {},
   "outputs": [
    {
     "name": "stdout",
     "output_type": "stream",
     "text": [
      "Total 400000 word vectors in Glove 6B 100d.\n"
     ]
    }
   ],
   "source": [
    "embeddings_index = {}\n",
    "f = open('glove.6B.100d.txt',encoding='utf8')\n",
    "for line in f:\n",
    "    values = line.split()\n",
    "    word = values[0]\n",
    "    coefs = np.asarray(values[1:], dtype='float32')\n",
    "    embeddings_index[word] = coefs\n",
    "f.close()\n",
    "\n",
    "print('Total %s word vectors in Glove 6B 100d.' % len(embeddings_index))"
   ]
  },
  {
   "cell_type": "code",
   "execution_count": 379,
   "metadata": {},
   "outputs": [],
   "source": [
    "embedding_matrix = np.random.random((len(word_index) + 1, EMBEDDING_DIM))\n",
    "for word, i in word_index.items():\n",
    "    embedding_vector = embeddings_index.get(word)\n",
    "    if embedding_vector is not None:\n",
    "        # words not found in embedding index will be all-zeros.\n",
    "        embedding_matrix[i] = embedding_vector"
   ]
  },
  {
   "cell_type": "code",
   "execution_count": 380,
   "metadata": {},
   "outputs": [],
   "source": [
    "embedding_layer = Embedding(len(word_index) + 1,\n",
    "                            EMBEDDING_DIM,\n",
    "                            weights=[embedding_matrix],\n",
    "                            input_length=MAX_SEQUENCE_LENGTH,\n",
    "                            trainable=True)"
   ]
  },
  {
   "cell_type": "code",
   "execution_count": 381,
   "metadata": {},
   "outputs": [
    {
     "name": "stdout",
     "output_type": "stream",
     "text": [
      "(3415, 1000) (3415, 3)\n"
     ]
    }
   ],
   "source": [
    "from imblearn.over_sampling import SMOTE\n",
    "smote = SMOTE('minority')\n",
    "X_sm_convolutional, y_sm_convolutional = smote.fit_sample(X_train_convolutional, Y_train_convolutional)\n",
    "print(X_sm_convolutional.shape, y_sm_convolutional.shape)"
   ]
  },
  {
   "cell_type": "code",
   "execution_count": 382,
   "metadata": {},
   "outputs": [
    {
     "name": "stdout",
     "output_type": "stream",
     "text": [
      "Simplified convolutional neural network\n",
      "_________________________________________________________________\n",
      "Layer (type)                 Output Shape              Param #   \n",
      "=================================================================\n",
      "input_14 (InputLayer)        (None, 1000)              0         \n",
      "_________________________________________________________________\n",
      "embedding_25 (Embedding)     (None, 1000, 100)         653200    \n",
      "_________________________________________________________________\n",
      "conv1d_13 (Conv1D)           (None, 996, 128)          64128     \n",
      "_________________________________________________________________\n",
      "max_pooling1d_13 (MaxPooling (None, 199, 128)          0         \n",
      "_________________________________________________________________\n",
      "conv1d_14 (Conv1D)           (None, 195, 128)          82048     \n",
      "_________________________________________________________________\n",
      "max_pooling1d_14 (MaxPooling (None, 39, 128)           0         \n",
      "_________________________________________________________________\n",
      "conv1d_15 (Conv1D)           (None, 35, 128)           82048     \n",
      "_________________________________________________________________\n",
      "max_pooling1d_15 (MaxPooling (None, 1, 128)            0         \n",
      "_________________________________________________________________\n",
      "flatten_5 (Flatten)          (None, 128)               0         \n",
      "_________________________________________________________________\n",
      "dense_47 (Dense)             (None, 128)               16512     \n",
      "_________________________________________________________________\n",
      "dense_48 (Dense)             (None, 3)                 387       \n",
      "=================================================================\n",
      "Total params: 898,323\n",
      "Trainable params: 898,323\n",
      "Non-trainable params: 0\n",
      "_________________________________________________________________\n"
     ]
    }
   ],
   "source": [
    "sequence_input = Input(shape=(MAX_SEQUENCE_LENGTH,), dtype='int32')\n",
    "embedded_sequences = embedding_layer(sequence_input)\n",
    "l_cov1= Conv1D(128, 5, activation='relu')(embedded_sequences)\n",
    "l_pool1 = MaxPooling1D(5)(l_cov1)\n",
    "l_cov2 = Conv1D(128, 5, activation='relu')(l_pool1)\n",
    "l_pool2 = MaxPooling1D(5)(l_cov2)\n",
    "l_cov3 = Conv1D(128, 5, activation='relu')(l_pool2)\n",
    "l_pool3 = MaxPooling1D(35)(l_cov3)  # global max pooling\n",
    "l_flat = Flatten()(l_pool3)\n",
    "l_dense = Dense(128, activation='relu')(l_flat)\n",
    "preds = Dense(len(macronum), activation='softmax')(l_dense)\n",
    "\n",
    "model = Model(sequence_input, preds)\n",
    "model.compile(loss='categorical_crossentropy',\n",
    "              optimizer='rmsprop',\n",
    "              metrics=['acc'])\n",
    "\n",
    "print(\"Simplified convolutional neural network\")\n",
    "model.summary()\n",
    "cp=ModelCheckpoint('model_cnn.hdf5',monitor='val_acc',verbose=1,save_best_only=True)"
   ]
  },
  {
   "cell_type": "code",
   "execution_count": 383,
   "metadata": {},
   "outputs": [
    {
     "name": "stdout",
     "output_type": "stream",
     "text": [
      "[0.49473493 1.48178358 3.2910628 ]\n"
     ]
    }
   ],
   "source": [
    "from sklearn.utils import class_weight\n",
    "\n",
    "class_weight= class_weight.compute_class_weight('balanced', np.unique(rationale_type),rationale_type)\n",
    "print(class_weight)"
   ]
  },
  {
   "cell_type": "code",
   "execution_count": 384,
   "metadata": {},
   "outputs": [
    {
     "name": "stdout",
     "output_type": "stream",
     "text": [
      "Train on 3073 samples, validate on 342 samples\n",
      "Epoch 1/5\n",
      "3073/3073 [==============================] - 43s 14ms/step - loss: 1.0021 - acc: 0.5288 - val_loss: 0.3710 - val_acc: 0.9269\n",
      "Epoch 2/5\n",
      "3073/3073 [==============================] - 39s 13ms/step - loss: 0.8286 - acc: 0.6515 - val_loss: 0.7678 - val_acc: 0.5936\n",
      "Epoch 3/5\n",
      "3073/3073 [==============================] - 39s 13ms/step - loss: 0.6924 - acc: 0.7123 - val_loss: 0.2830 - val_acc: 0.8713\n",
      "Epoch 4/5\n",
      "3073/3073 [==============================] - 39s 13ms/step - loss: 0.5611 - acc: 0.7722 - val_loss: 0.6204 - val_acc: 0.7251\n",
      "Epoch 5/5\n",
      "3073/3073 [==============================] - 39s 13ms/step - loss: 0.4538 - acc: 0.8161 - val_loss: 0.1518 - val_acc: 0.9444\n",
      "545/545 [==============================] - 3s 5ms/step\n",
      "Test Loss: 1.2661193064593395\n",
      "Test Accuracy: 0.5045871523542141\n"
     ]
    }
   ],
   "source": [
    "epochs=5\n",
    "batch_size=12\n",
    "history = model.fit(X_sm_convolutional, y_sm_convolutional, epochs=epochs, batch_size=batch_size,class_weight=class_weight, validation_split=0.1)\n",
    "score= model.evaluate(X_test_convolutional, Y_test_convolutional, batch_size=batch_size, verbose=1)\n",
    "print(\"Test Loss: {}\". format(score[0]))\n",
    "print(\"Test Accuracy: {}\". format(score[1]))\n",
    "#history=model.fit(X_sm_convolutional, y_sm_convolutional, validation_data=(X_test_convolutional, Y_test_convolutional),epochs=5, batch_size=12)\n"
   ]
  },
  {
   "cell_type": "code",
   "execution_count": 385,
   "metadata": {},
   "outputs": [
    {
     "name": "stdout",
     "output_type": "stream",
     "text": [
      "545/545 [==============================] - 4s 8ms/step\n",
      "              precision    recall  f1-score   support\n",
      "\n",
      "           0       0.75      0.57      0.65       370\n",
      "           1       0.48      0.29      0.36       130\n",
      "           2       0.14      0.58      0.23        45\n",
      "\n",
      "   micro avg       0.50      0.50      0.50       545\n",
      "   macro avg       0.46      0.48      0.41       545\n",
      "weighted avg       0.64      0.50      0.55       545\n",
      "\n"
     ]
    }
   ],
   "source": [
    "pred = model.predict(X_test_convolutional, batch_size=12, verbose=1)\n",
    "predicted = np.argmax(pred, axis=1)\n",
    "report = classification_report(np.argmax(Y_test_convolutional, axis=1), predicted)\n",
    "print(report)"
   ]
  },
  {
   "cell_type": "code",
   "execution_count": 386,
   "metadata": {},
   "outputs": [
    {
     "name": "stderr",
     "output_type": "stream",
     "text": [
      "C:\\Users\\Ali\\Anaconda3\\lib\\site-packages\\matplotlib\\figure.py:445: UserWarning:\n",
      "\n",
      "Matplotlib is currently using agg, which is a non-GUI backend, so cannot show the figure.\n",
      "\n"
     ]
    },
    {
     "data": {
      "image/png": "[encoded data removed]",
      "text/plain": [
       "<Figure size 432x288 with 1 Axes>"
      ]
     },
     "metadata": {
      "needs_background": "light"
     },
     "output_type": "display_data"
    }
   ],
   "source": [
    "plt.title('Loss')\n",
    "plt.plot(history.history['loss'], label='train')\n",
    "plt.plot(history.history['val_loss'], label='test')\n",
    "plt.legend()\n",
    "plt.show();"
   ]
  },
  {
   "cell_type": "code",
   "execution_count": 387,
   "metadata": {},
   "outputs": [
    {
     "data": {
      "image/png": "[encoded data removed]",
      "text/plain": [
       "<Figure size 432x288 with 1 Axes>"
      ]
     },
     "metadata": {
      "needs_background": "light"
     },
     "output_type": "display_data"
    }
   ],
   "source": [
    "plt.title('Accuracy')\n",
    "plt.plot(history.history['acc'], label='train')\n",
    "plt.plot(history.history['val_acc'], label='test')\n",
    "plt.legend()\n",
    "plt.show();"
   ]
  },
  {
   "cell_type": "code",
   "execution_count": null,
   "metadata": {},
   "outputs": [],
   "source": []
  }
 ],
 "metadata": {
  "kernelspec": {
   "display_name": "Python 3",
   "language": "python",
   "name": "python3"
  },
  "language_info": {
   "codemirror_mode": {
    "name": "ipython",
    "version": 3
   },
   "file_extension": ".py",
   "mimetype": "text/x-python",
   "name": "python",
   "nbconvert_exporter": "python",
   "pygments_lexer": "ipython3",
   "version": "3.7.3"
  }
 },
 "nbformat": 4,
 "nbformat_minor": 2
}
